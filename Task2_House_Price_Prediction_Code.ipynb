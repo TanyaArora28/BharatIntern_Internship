{
 "cells": [
  {
   "cell_type": "markdown",
   "id": "9e02c769",
   "metadata": {},
   "source": [
    "## House Price Prediction ML model for Delhi\n"
   ]
  },
  {
   "cell_type": "markdown",
   "id": "dcfd94fa",
   "metadata": {},
   "source": [
    "### Data Preprocessing, Cleaning and Manipulation"
   ]
  },
  {
   "cell_type": "code",
   "execution_count": 1,
   "id": "30dbf58b",
   "metadata": {},
   "outputs": [],
   "source": [
    "# Importing the necessary libraries\n",
    "\n",
    "import pandas as pd\n",
    "import numpy as np\n",
    "from matplotlib import pyplot as plt\n",
    "%matplotlib inline  #displays the plot below the code.\n",
    "import matplotlib\n",
    "matplotlib.rcParams[\"figure.figsize\"]=(20,10)  #standardising the size of all our visuals.\n",
    "import seaborn as sns\n",
    "from sklearn.model_selection import train_test_split"
   ]
  },
  {
   "cell_type": "code",
   "execution_count": 82,
   "id": "1fb92db5",
   "metadata": {},
   "outputs": [
    {
     "data": {
      "text/html": [
       "<div>\n",
       "<style scoped>\n",
       "    .dataframe tbody tr th:only-of-type {\n",
       "        vertical-align: middle;\n",
       "    }\n",
       "\n",
       "    .dataframe tbody tr th {\n",
       "        vertical-align: top;\n",
       "    }\n",
       "\n",
       "    .dataframe thead th {\n",
       "        text-align: right;\n",
       "    }\n",
       "</style>\n",
       "<table border=\"1\" class=\"dataframe\">\n",
       "  <thead>\n",
       "    <tr style=\"text-align: right;\">\n",
       "      <th></th>\n",
       "      <th>Unnamed: 0</th>\n",
       "      <th>size_sq_ft</th>\n",
       "      <th>propertyType</th>\n",
       "      <th>bedrooms</th>\n",
       "      <th>latitude</th>\n",
       "      <th>longitude</th>\n",
       "      <th>localityName</th>\n",
       "      <th>suburbName</th>\n",
       "      <th>cityName</th>\n",
       "      <th>price</th>\n",
       "      <th>companyName</th>\n",
       "      <th>closest_mtero_station_km</th>\n",
       "      <th>AP_dist_km</th>\n",
       "      <th>Aiims_dist_km</th>\n",
       "      <th>NDRLW_dist_km</th>\n",
       "    </tr>\n",
       "  </thead>\n",
       "  <tbody>\n",
       "    <tr>\n",
       "      <th>0</th>\n",
       "      <td>0</td>\n",
       "      <td>400</td>\n",
       "      <td>Independent Floor</td>\n",
       "      <td>1</td>\n",
       "      <td>28.641010</td>\n",
       "      <td>77.284386</td>\n",
       "      <td>Swasthya Vihar</td>\n",
       "      <td>Delhi East</td>\n",
       "      <td>Delhi</td>\n",
       "      <td>9000</td>\n",
       "      <td>Dream Homez</td>\n",
       "      <td>0.577495</td>\n",
       "      <td>21.741188</td>\n",
       "      <td>11.119239</td>\n",
       "      <td>6.227231</td>\n",
       "    </tr>\n",
       "    <tr>\n",
       "      <th>1</th>\n",
       "      <td>1</td>\n",
       "      <td>1050</td>\n",
       "      <td>Apartment</td>\n",
       "      <td>2</td>\n",
       "      <td>28.594969</td>\n",
       "      <td>77.298668</td>\n",
       "      <td>mayur vihar phase 1</td>\n",
       "      <td>Delhi East</td>\n",
       "      <td>Delhi</td>\n",
       "      <td>20000</td>\n",
       "      <td>Rupak Properties Stock</td>\n",
       "      <td>0.417142</td>\n",
       "      <td>21.401856</td>\n",
       "      <td>9.419061</td>\n",
       "      <td>9.217502</td>\n",
       "    </tr>\n",
       "    <tr>\n",
       "      <th>2</th>\n",
       "      <td>2</td>\n",
       "      <td>2250</td>\n",
       "      <td>Independent Floor</td>\n",
       "      <td>2</td>\n",
       "      <td>28.641806</td>\n",
       "      <td>77.293922</td>\n",
       "      <td>Swasthya Vihar</td>\n",
       "      <td>Delhi East</td>\n",
       "      <td>Delhi</td>\n",
       "      <td>28000</td>\n",
       "      <td>Aashiyana Real Estate</td>\n",
       "      <td>0.125136</td>\n",
       "      <td>22.620365</td>\n",
       "      <td>11.829486</td>\n",
       "      <td>7.159184</td>\n",
       "    </tr>\n",
       "    <tr>\n",
       "      <th>3</th>\n",
       "      <td>3</td>\n",
       "      <td>1350</td>\n",
       "      <td>Independent Floor</td>\n",
       "      <td>2</td>\n",
       "      <td>28.644363</td>\n",
       "      <td>77.293228</td>\n",
       "      <td>Krishna Nagar</td>\n",
       "      <td>Delhi East</td>\n",
       "      <td>Delhi</td>\n",
       "      <td>28000</td>\n",
       "      <td>Shivam Real Estate</td>\n",
       "      <td>0.371709</td>\n",
       "      <td>22.681201</td>\n",
       "      <td>11.982708</td>\n",
       "      <td>7.097348</td>\n",
       "    </tr>\n",
       "    <tr>\n",
       "      <th>4</th>\n",
       "      <td>4</td>\n",
       "      <td>450</td>\n",
       "      <td>Apartment</td>\n",
       "      <td>2</td>\n",
       "      <td>28.594736</td>\n",
       "      <td>77.311150</td>\n",
       "      <td>New Ashok Nagar</td>\n",
       "      <td>Delhi East</td>\n",
       "      <td>Delhi</td>\n",
       "      <td>12500</td>\n",
       "      <td>Shree Properties</td>\n",
       "      <td>1.087760</td>\n",
       "      <td>22.592810</td>\n",
       "      <td>10.571573</td>\n",
       "      <td>10.263271</td>\n",
       "    </tr>\n",
       "    <tr>\n",
       "      <th>...</th>\n",
       "      <td>...</td>\n",
       "      <td>...</td>\n",
       "      <td>...</td>\n",
       "      <td>...</td>\n",
       "      <td>...</td>\n",
       "      <td>...</td>\n",
       "      <td>...</td>\n",
       "      <td>...</td>\n",
       "      <td>...</td>\n",
       "      <td>...</td>\n",
       "      <td>...</td>\n",
       "      <td>...</td>\n",
       "      <td>...</td>\n",
       "      <td>...</td>\n",
       "      <td>...</td>\n",
       "    </tr>\n",
       "    <tr>\n",
       "      <th>17885</th>\n",
       "      <td>17885</td>\n",
       "      <td>270</td>\n",
       "      <td>Independent Floor</td>\n",
       "      <td>1</td>\n",
       "      <td>28.640198</td>\n",
       "      <td>77.187279</td>\n",
       "      <td>Rajinder Nagar</td>\n",
       "      <td>Delhi West</td>\n",
       "      <td>Delhi</td>\n",
       "      <td>15000</td>\n",
       "      <td>K K LAVANIA</td>\n",
       "      <td>0.426038</td>\n",
       "      <td>13.787582</td>\n",
       "      <td>8.372242</td>\n",
       "      <td>3.271959</td>\n",
       "    </tr>\n",
       "    <tr>\n",
       "      <th>17886</th>\n",
       "      <td>17886</td>\n",
       "      <td>1000</td>\n",
       "      <td>Independent Floor</td>\n",
       "      <td>3</td>\n",
       "      <td>28.640209</td>\n",
       "      <td>77.187271</td>\n",
       "      <td>Rajinder Nagar</td>\n",
       "      <td>Delhi West</td>\n",
       "      <td>Delhi</td>\n",
       "      <td>38000</td>\n",
       "      <td>sanjeev</td>\n",
       "      <td>0.425040</td>\n",
       "      <td>13.787908</td>\n",
       "      <td>8.373653</td>\n",
       "      <td>3.272639</td>\n",
       "    </tr>\n",
       "    <tr>\n",
       "      <th>17887</th>\n",
       "      <td>17887</td>\n",
       "      <td>1400</td>\n",
       "      <td>Independent Floor</td>\n",
       "      <td>1</td>\n",
       "      <td>28.636087</td>\n",
       "      <td>77.177994</td>\n",
       "      <td>Rajinder Nagar</td>\n",
       "      <td>Delhi West</td>\n",
       "      <td>Delhi</td>\n",
       "      <td>47000</td>\n",
       "      <td>ANIL KUMAR BAREJA</td>\n",
       "      <td>0.682508</td>\n",
       "      <td>12.817571</td>\n",
       "      <td>8.207820</td>\n",
       "      <td>4.221707</td>\n",
       "    </tr>\n",
       "    <tr>\n",
       "      <th>17888</th>\n",
       "      <td>17888</td>\n",
       "      <td>900</td>\n",
       "      <td>Independent Floor</td>\n",
       "      <td>1</td>\n",
       "      <td>28.640995</td>\n",
       "      <td>77.179512</td>\n",
       "      <td>Rajinder Nagar</td>\n",
       "      <td>Delhi West</td>\n",
       "      <td>Delhi</td>\n",
       "      <td>8000</td>\n",
       "      <td>Manjit</td>\n",
       "      <td>0.184343</td>\n",
       "      <td>13.308030</td>\n",
       "      <td>8.669832</td>\n",
       "      <td>4.027845</td>\n",
       "    </tr>\n",
       "    <tr>\n",
       "      <th>17889</th>\n",
       "      <td>17889</td>\n",
       "      <td>1000</td>\n",
       "      <td>Independent Floor</td>\n",
       "      <td>3</td>\n",
       "      <td>28.642803</td>\n",
       "      <td>77.188148</td>\n",
       "      <td>Rajinder Nagar</td>\n",
       "      <td>Delhi West</td>\n",
       "      <td>Delhi</td>\n",
       "      <td>38000</td>\n",
       "      <td>sanjeev</td>\n",
       "      <td>0.125044</td>\n",
       "      <td>14.048234</td>\n",
       "      <td>8.633506</td>\n",
       "      <td>3.184990</td>\n",
       "    </tr>\n",
       "  </tbody>\n",
       "</table>\n",
       "<p>17890 rows × 15 columns</p>\n",
       "</div>"
      ],
      "text/plain": [
       "       Unnamed: 0  size_sq_ft       propertyType  bedrooms   latitude  \\\n",
       "0               0         400  Independent Floor         1  28.641010   \n",
       "1               1        1050          Apartment         2  28.594969   \n",
       "2               2        2250  Independent Floor         2  28.641806   \n",
       "3               3        1350  Independent Floor         2  28.644363   \n",
       "4               4         450          Apartment         2  28.594736   \n",
       "...           ...         ...                ...       ...        ...   \n",
       "17885       17885         270  Independent Floor         1  28.640198   \n",
       "17886       17886        1000  Independent Floor         3  28.640209   \n",
       "17887       17887        1400  Independent Floor         1  28.636087   \n",
       "17888       17888         900  Independent Floor         1  28.640995   \n",
       "17889       17889        1000  Independent Floor         3  28.642803   \n",
       "\n",
       "       longitude         localityName  suburbName cityName  price  \\\n",
       "0      77.284386       Swasthya Vihar  Delhi East    Delhi   9000   \n",
       "1      77.298668  mayur vihar phase 1  Delhi East    Delhi  20000   \n",
       "2      77.293922       Swasthya Vihar  Delhi East    Delhi  28000   \n",
       "3      77.293228        Krishna Nagar  Delhi East    Delhi  28000   \n",
       "4      77.311150      New Ashok Nagar  Delhi East    Delhi  12500   \n",
       "...          ...                  ...         ...      ...    ...   \n",
       "17885  77.187279       Rajinder Nagar  Delhi West    Delhi  15000   \n",
       "17886  77.187271       Rajinder Nagar  Delhi West    Delhi  38000   \n",
       "17887  77.177994       Rajinder Nagar  Delhi West    Delhi  47000   \n",
       "17888  77.179512       Rajinder Nagar  Delhi West    Delhi   8000   \n",
       "17889  77.188148       Rajinder Nagar  Delhi West    Delhi  38000   \n",
       "\n",
       "                  companyName  closest_mtero_station_km  AP_dist_km  \\\n",
       "0                 Dream Homez                  0.577495   21.741188   \n",
       "1      Rupak Properties Stock                  0.417142   21.401856   \n",
       "2       Aashiyana Real Estate                  0.125136   22.620365   \n",
       "3          Shivam Real Estate                  0.371709   22.681201   \n",
       "4            Shree Properties                  1.087760   22.592810   \n",
       "...                       ...                       ...         ...   \n",
       "17885             K K LAVANIA                  0.426038   13.787582   \n",
       "17886                 sanjeev                  0.425040   13.787908   \n",
       "17887       ANIL KUMAR BAREJA                  0.682508   12.817571   \n",
       "17888                  Manjit                  0.184343   13.308030   \n",
       "17889                 sanjeev                  0.125044   14.048234   \n",
       "\n",
       "       Aiims_dist_km  NDRLW_dist_km  \n",
       "0          11.119239       6.227231  \n",
       "1           9.419061       9.217502  \n",
       "2          11.829486       7.159184  \n",
       "3          11.982708       7.097348  \n",
       "4          10.571573      10.263271  \n",
       "...              ...            ...  \n",
       "17885       8.372242       3.271959  \n",
       "17886       8.373653       3.272639  \n",
       "17887       8.207820       4.221707  \n",
       "17888       8.669832       4.027845  \n",
       "17889       8.633506       3.184990  \n",
       "\n",
       "[17890 rows x 15 columns]"
      ]
     },
     "execution_count": 82,
     "metadata": {},
     "output_type": "execute_result"
    }
   ],
   "source": [
    "house_df = pd.read_csv('House_price_dataset.csv')\n",
    "house_df"
   ]
  },
  {
   "cell_type": "code",
   "execution_count": 83,
   "id": "1e50a635",
   "metadata": {},
   "outputs": [],
   "source": [
    "house_df.drop(house_df.columns[house_df.columns.str.contains('unnamed',case = False)],axis = 1, inplace = True)"
   ]
  },
  {
   "cell_type": "code",
   "execution_count": 84,
   "id": "de817392",
   "metadata": {},
   "outputs": [
    {
     "data": {
      "text/html": [
       "<div>\n",
       "<style scoped>\n",
       "    .dataframe tbody tr th:only-of-type {\n",
       "        vertical-align: middle;\n",
       "    }\n",
       "\n",
       "    .dataframe tbody tr th {\n",
       "        vertical-align: top;\n",
       "    }\n",
       "\n",
       "    .dataframe thead th {\n",
       "        text-align: right;\n",
       "    }\n",
       "</style>\n",
       "<table border=\"1\" class=\"dataframe\">\n",
       "  <thead>\n",
       "    <tr style=\"text-align: right;\">\n",
       "      <th></th>\n",
       "      <th>size_sq_ft</th>\n",
       "      <th>propertyType</th>\n",
       "      <th>bedrooms</th>\n",
       "      <th>latitude</th>\n",
       "      <th>longitude</th>\n",
       "      <th>localityName</th>\n",
       "      <th>suburbName</th>\n",
       "      <th>cityName</th>\n",
       "      <th>price</th>\n",
       "      <th>companyName</th>\n",
       "      <th>closest_mtero_station_km</th>\n",
       "      <th>AP_dist_km</th>\n",
       "      <th>Aiims_dist_km</th>\n",
       "      <th>NDRLW_dist_km</th>\n",
       "    </tr>\n",
       "  </thead>\n",
       "  <tbody>\n",
       "    <tr>\n",
       "      <th>0</th>\n",
       "      <td>400</td>\n",
       "      <td>Independent Floor</td>\n",
       "      <td>1</td>\n",
       "      <td>28.641010</td>\n",
       "      <td>77.284386</td>\n",
       "      <td>Swasthya Vihar</td>\n",
       "      <td>Delhi East</td>\n",
       "      <td>Delhi</td>\n",
       "      <td>9000</td>\n",
       "      <td>Dream Homez</td>\n",
       "      <td>0.577495</td>\n",
       "      <td>21.741188</td>\n",
       "      <td>11.119239</td>\n",
       "      <td>6.227231</td>\n",
       "    </tr>\n",
       "    <tr>\n",
       "      <th>1</th>\n",
       "      <td>1050</td>\n",
       "      <td>Apartment</td>\n",
       "      <td>2</td>\n",
       "      <td>28.594969</td>\n",
       "      <td>77.298668</td>\n",
       "      <td>mayur vihar phase 1</td>\n",
       "      <td>Delhi East</td>\n",
       "      <td>Delhi</td>\n",
       "      <td>20000</td>\n",
       "      <td>Rupak Properties Stock</td>\n",
       "      <td>0.417142</td>\n",
       "      <td>21.401856</td>\n",
       "      <td>9.419061</td>\n",
       "      <td>9.217502</td>\n",
       "    </tr>\n",
       "    <tr>\n",
       "      <th>2</th>\n",
       "      <td>2250</td>\n",
       "      <td>Independent Floor</td>\n",
       "      <td>2</td>\n",
       "      <td>28.641806</td>\n",
       "      <td>77.293922</td>\n",
       "      <td>Swasthya Vihar</td>\n",
       "      <td>Delhi East</td>\n",
       "      <td>Delhi</td>\n",
       "      <td>28000</td>\n",
       "      <td>Aashiyana Real Estate</td>\n",
       "      <td>0.125136</td>\n",
       "      <td>22.620365</td>\n",
       "      <td>11.829486</td>\n",
       "      <td>7.159184</td>\n",
       "    </tr>\n",
       "    <tr>\n",
       "      <th>3</th>\n",
       "      <td>1350</td>\n",
       "      <td>Independent Floor</td>\n",
       "      <td>2</td>\n",
       "      <td>28.644363</td>\n",
       "      <td>77.293228</td>\n",
       "      <td>Krishna Nagar</td>\n",
       "      <td>Delhi East</td>\n",
       "      <td>Delhi</td>\n",
       "      <td>28000</td>\n",
       "      <td>Shivam Real Estate</td>\n",
       "      <td>0.371709</td>\n",
       "      <td>22.681201</td>\n",
       "      <td>11.982708</td>\n",
       "      <td>7.097348</td>\n",
       "    </tr>\n",
       "    <tr>\n",
       "      <th>4</th>\n",
       "      <td>450</td>\n",
       "      <td>Apartment</td>\n",
       "      <td>2</td>\n",
       "      <td>28.594736</td>\n",
       "      <td>77.311150</td>\n",
       "      <td>New Ashok Nagar</td>\n",
       "      <td>Delhi East</td>\n",
       "      <td>Delhi</td>\n",
       "      <td>12500</td>\n",
       "      <td>Shree Properties</td>\n",
       "      <td>1.087760</td>\n",
       "      <td>22.592810</td>\n",
       "      <td>10.571573</td>\n",
       "      <td>10.263271</td>\n",
       "    </tr>\n",
       "  </tbody>\n",
       "</table>\n",
       "</div>"
      ],
      "text/plain": [
       "   size_sq_ft       propertyType  bedrooms   latitude  longitude  \\\n",
       "0         400  Independent Floor         1  28.641010  77.284386   \n",
       "1        1050          Apartment         2  28.594969  77.298668   \n",
       "2        2250  Independent Floor         2  28.641806  77.293922   \n",
       "3        1350  Independent Floor         2  28.644363  77.293228   \n",
       "4         450          Apartment         2  28.594736  77.311150   \n",
       "\n",
       "          localityName  suburbName cityName  price             companyName  \\\n",
       "0       Swasthya Vihar  Delhi East    Delhi   9000             Dream Homez   \n",
       "1  mayur vihar phase 1  Delhi East    Delhi  20000  Rupak Properties Stock   \n",
       "2       Swasthya Vihar  Delhi East    Delhi  28000   Aashiyana Real Estate   \n",
       "3        Krishna Nagar  Delhi East    Delhi  28000      Shivam Real Estate   \n",
       "4      New Ashok Nagar  Delhi East    Delhi  12500        Shree Properties   \n",
       "\n",
       "   closest_mtero_station_km  AP_dist_km  Aiims_dist_km  NDRLW_dist_km  \n",
       "0                  0.577495   21.741188      11.119239       6.227231  \n",
       "1                  0.417142   21.401856       9.419061       9.217502  \n",
       "2                  0.125136   22.620365      11.829486       7.159184  \n",
       "3                  0.371709   22.681201      11.982708       7.097348  \n",
       "4                  1.087760   22.592810      10.571573      10.263271  "
      ]
     },
     "execution_count": 84,
     "metadata": {},
     "output_type": "execute_result"
    }
   ],
   "source": [
    "house_df.head()"
   ]
  },
  {
   "cell_type": "code",
   "execution_count": 85,
   "id": "0f4daaaa",
   "metadata": {},
   "outputs": [
    {
     "data": {
      "text/html": [
       "<div>\n",
       "<style scoped>\n",
       "    .dataframe tbody tr th:only-of-type {\n",
       "        vertical-align: middle;\n",
       "    }\n",
       "\n",
       "    .dataframe tbody tr th {\n",
       "        vertical-align: top;\n",
       "    }\n",
       "\n",
       "    .dataframe thead th {\n",
       "        text-align: right;\n",
       "    }\n",
       "</style>\n",
       "<table border=\"1\" class=\"dataframe\">\n",
       "  <thead>\n",
       "    <tr style=\"text-align: right;\">\n",
       "      <th></th>\n",
       "      <th>size_sq_ft</th>\n",
       "      <th>propertyType</th>\n",
       "      <th>bedrooms</th>\n",
       "      <th>latitude</th>\n",
       "      <th>longitude</th>\n",
       "      <th>localityName</th>\n",
       "      <th>suburbName</th>\n",
       "      <th>cityName</th>\n",
       "      <th>price</th>\n",
       "      <th>companyName</th>\n",
       "      <th>closest_mtero_station_km</th>\n",
       "      <th>AP_dist_km</th>\n",
       "      <th>Aiims_dist_km</th>\n",
       "      <th>NDRLW_dist_km</th>\n",
       "    </tr>\n",
       "  </thead>\n",
       "  <tbody>\n",
       "    <tr>\n",
       "      <th>17885</th>\n",
       "      <td>270</td>\n",
       "      <td>Independent Floor</td>\n",
       "      <td>1</td>\n",
       "      <td>28.640198</td>\n",
       "      <td>77.187279</td>\n",
       "      <td>Rajinder Nagar</td>\n",
       "      <td>Delhi West</td>\n",
       "      <td>Delhi</td>\n",
       "      <td>15000</td>\n",
       "      <td>K K LAVANIA</td>\n",
       "      <td>0.426038</td>\n",
       "      <td>13.787582</td>\n",
       "      <td>8.372242</td>\n",
       "      <td>3.271959</td>\n",
       "    </tr>\n",
       "    <tr>\n",
       "      <th>17886</th>\n",
       "      <td>1000</td>\n",
       "      <td>Independent Floor</td>\n",
       "      <td>3</td>\n",
       "      <td>28.640209</td>\n",
       "      <td>77.187271</td>\n",
       "      <td>Rajinder Nagar</td>\n",
       "      <td>Delhi West</td>\n",
       "      <td>Delhi</td>\n",
       "      <td>38000</td>\n",
       "      <td>sanjeev</td>\n",
       "      <td>0.425040</td>\n",
       "      <td>13.787908</td>\n",
       "      <td>8.373653</td>\n",
       "      <td>3.272639</td>\n",
       "    </tr>\n",
       "    <tr>\n",
       "      <th>17887</th>\n",
       "      <td>1400</td>\n",
       "      <td>Independent Floor</td>\n",
       "      <td>1</td>\n",
       "      <td>28.636087</td>\n",
       "      <td>77.177994</td>\n",
       "      <td>Rajinder Nagar</td>\n",
       "      <td>Delhi West</td>\n",
       "      <td>Delhi</td>\n",
       "      <td>47000</td>\n",
       "      <td>ANIL KUMAR BAREJA</td>\n",
       "      <td>0.682508</td>\n",
       "      <td>12.817571</td>\n",
       "      <td>8.207820</td>\n",
       "      <td>4.221707</td>\n",
       "    </tr>\n",
       "    <tr>\n",
       "      <th>17888</th>\n",
       "      <td>900</td>\n",
       "      <td>Independent Floor</td>\n",
       "      <td>1</td>\n",
       "      <td>28.640995</td>\n",
       "      <td>77.179512</td>\n",
       "      <td>Rajinder Nagar</td>\n",
       "      <td>Delhi West</td>\n",
       "      <td>Delhi</td>\n",
       "      <td>8000</td>\n",
       "      <td>Manjit</td>\n",
       "      <td>0.184343</td>\n",
       "      <td>13.308030</td>\n",
       "      <td>8.669832</td>\n",
       "      <td>4.027845</td>\n",
       "    </tr>\n",
       "    <tr>\n",
       "      <th>17889</th>\n",
       "      <td>1000</td>\n",
       "      <td>Independent Floor</td>\n",
       "      <td>3</td>\n",
       "      <td>28.642803</td>\n",
       "      <td>77.188148</td>\n",
       "      <td>Rajinder Nagar</td>\n",
       "      <td>Delhi West</td>\n",
       "      <td>Delhi</td>\n",
       "      <td>38000</td>\n",
       "      <td>sanjeev</td>\n",
       "      <td>0.125044</td>\n",
       "      <td>14.048234</td>\n",
       "      <td>8.633506</td>\n",
       "      <td>3.184990</td>\n",
       "    </tr>\n",
       "  </tbody>\n",
       "</table>\n",
       "</div>"
      ],
      "text/plain": [
       "       size_sq_ft       propertyType  bedrooms   latitude  longitude  \\\n",
       "17885         270  Independent Floor         1  28.640198  77.187279   \n",
       "17886        1000  Independent Floor         3  28.640209  77.187271   \n",
       "17887        1400  Independent Floor         1  28.636087  77.177994   \n",
       "17888         900  Independent Floor         1  28.640995  77.179512   \n",
       "17889        1000  Independent Floor         3  28.642803  77.188148   \n",
       "\n",
       "         localityName  suburbName cityName  price        companyName  \\\n",
       "17885  Rajinder Nagar  Delhi West    Delhi  15000        K K LAVANIA   \n",
       "17886  Rajinder Nagar  Delhi West    Delhi  38000            sanjeev   \n",
       "17887  Rajinder Nagar  Delhi West    Delhi  47000  ANIL KUMAR BAREJA   \n",
       "17888  Rajinder Nagar  Delhi West    Delhi   8000             Manjit   \n",
       "17889  Rajinder Nagar  Delhi West    Delhi  38000            sanjeev   \n",
       "\n",
       "       closest_mtero_station_km  AP_dist_km  Aiims_dist_km  NDRLW_dist_km  \n",
       "17885                  0.426038   13.787582       8.372242       3.271959  \n",
       "17886                  0.425040   13.787908       8.373653       3.272639  \n",
       "17887                  0.682508   12.817571       8.207820       4.221707  \n",
       "17888                  0.184343   13.308030       8.669832       4.027845  \n",
       "17889                  0.125044   14.048234       8.633506       3.184990  "
      ]
     },
     "execution_count": 85,
     "metadata": {},
     "output_type": "execute_result"
    }
   ],
   "source": [
    "house_df.tail()"
   ]
  },
  {
   "cell_type": "code",
   "execution_count": 86,
   "id": "ba26380a",
   "metadata": {},
   "outputs": [
    {
     "data": {
      "text/plain": [
       "(17890, 14)"
      ]
     },
     "execution_count": 86,
     "metadata": {},
     "output_type": "execute_result"
    }
   ],
   "source": [
    "house_df.shape"
   ]
  },
  {
   "cell_type": "code",
   "execution_count": 87,
   "id": "99e03d7d",
   "metadata": {},
   "outputs": [
    {
     "name": "stdout",
     "output_type": "stream",
     "text": [
      "<class 'pandas.core.frame.DataFrame'>\n",
      "RangeIndex: 17890 entries, 0 to 17889\n",
      "Data columns (total 14 columns):\n",
      " #   Column                    Non-Null Count  Dtype  \n",
      "---  ------                    --------------  -----  \n",
      " 0   size_sq_ft                17890 non-null  int64  \n",
      " 1   propertyType              17890 non-null  object \n",
      " 2   bedrooms                  17890 non-null  int64  \n",
      " 3   latitude                  17890 non-null  float64\n",
      " 4   longitude                 17890 non-null  float64\n",
      " 5   localityName              17890 non-null  object \n",
      " 6   suburbName                17890 non-null  object \n",
      " 7   cityName                  17890 non-null  object \n",
      " 8   price                     17890 non-null  int64  \n",
      " 9   companyName               17890 non-null  object \n",
      " 10  closest_mtero_station_km  17890 non-null  float64\n",
      " 11  AP_dist_km                17890 non-null  float64\n",
      " 12  Aiims_dist_km             17890 non-null  float64\n",
      " 13  NDRLW_dist_km             17890 non-null  float64\n",
      "dtypes: float64(6), int64(3), object(5)\n",
      "memory usage: 1.9+ MB\n"
     ]
    }
   ],
   "source": [
    "house_df.info()"
   ]
  },
  {
   "cell_type": "markdown",
   "id": "f2c41b09",
   "metadata": {},
   "source": [
    "Hence, we get to see the basic details of our dataset"
   ]
  },
  {
   "cell_type": "code",
   "execution_count": 88,
   "id": "42ad28fc",
   "metadata": {},
   "outputs": [
    {
     "data": {
      "text/html": [
       "<div>\n",
       "<style scoped>\n",
       "    .dataframe tbody tr th:only-of-type {\n",
       "        vertical-align: middle;\n",
       "    }\n",
       "\n",
       "    .dataframe tbody tr th {\n",
       "        vertical-align: top;\n",
       "    }\n",
       "\n",
       "    .dataframe thead th {\n",
       "        text-align: right;\n",
       "    }\n",
       "</style>\n",
       "<table border=\"1\" class=\"dataframe\">\n",
       "  <thead>\n",
       "    <tr style=\"text-align: right;\">\n",
       "      <th></th>\n",
       "      <th>size_sq_ft</th>\n",
       "      <th>bedrooms</th>\n",
       "      <th>latitude</th>\n",
       "      <th>longitude</th>\n",
       "      <th>price</th>\n",
       "      <th>closest_mtero_station_km</th>\n",
       "      <th>AP_dist_km</th>\n",
       "      <th>Aiims_dist_km</th>\n",
       "      <th>NDRLW_dist_km</th>\n",
       "    </tr>\n",
       "  </thead>\n",
       "  <tbody>\n",
       "    <tr>\n",
       "      <th>count</th>\n",
       "      <td>17890.000000</td>\n",
       "      <td>17890.000000</td>\n",
       "      <td>17890.000000</td>\n",
       "      <td>17890.000000</td>\n",
       "      <td>1.789000e+04</td>\n",
       "      <td>17890.000000</td>\n",
       "      <td>17890.000000</td>\n",
       "      <td>17890.000000</td>\n",
       "      <td>17890.000000</td>\n",
       "    </tr>\n",
       "    <tr>\n",
       "      <th>mean</th>\n",
       "      <td>1176.342091</td>\n",
       "      <td>2.168865</td>\n",
       "      <td>28.609382</td>\n",
       "      <td>77.168368</td>\n",
       "      <td>3.345196e+04</td>\n",
       "      <td>0.931495</td>\n",
       "      <td>13.727784</td>\n",
       "      <td>11.238134</td>\n",
       "      <td>11.421994</td>\n",
       "    </tr>\n",
       "    <tr>\n",
       "      <th>std</th>\n",
       "      <td>873.751044</td>\n",
       "      <td>0.971414</td>\n",
       "      <td>0.099547</td>\n",
       "      <td>0.097611</td>\n",
       "      <td>8.802054e+04</td>\n",
       "      <td>8.287856</td>\n",
       "      <td>11.357063</td>\n",
       "      <td>11.167202</td>\n",
       "      <td>11.063323</td>\n",
       "    </tr>\n",
       "    <tr>\n",
       "      <th>min</th>\n",
       "      <td>100.000000</td>\n",
       "      <td>1.000000</td>\n",
       "      <td>19.185120</td>\n",
       "      <td>73.213829</td>\n",
       "      <td>1.200000e+03</td>\n",
       "      <td>0.000692</td>\n",
       "      <td>1.784779</td>\n",
       "      <td>0.634508</td>\n",
       "      <td>0.722023</td>\n",
       "    </tr>\n",
       "    <tr>\n",
       "      <th>25%</th>\n",
       "      <td>620.000000</td>\n",
       "      <td>1.000000</td>\n",
       "      <td>28.562540</td>\n",
       "      <td>77.103718</td>\n",
       "      <td>1.350000e+04</td>\n",
       "      <td>0.457782</td>\n",
       "      <td>11.018715</td>\n",
       "      <td>7.769267</td>\n",
       "      <td>7.986813</td>\n",
       "    </tr>\n",
       "    <tr>\n",
       "      <th>50%</th>\n",
       "      <td>900.000000</td>\n",
       "      <td>2.000000</td>\n",
       "      <td>28.611803</td>\n",
       "      <td>77.168755</td>\n",
       "      <td>2.200000e+04</td>\n",
       "      <td>0.698560</td>\n",
       "      <td>13.184035</td>\n",
       "      <td>10.515524</td>\n",
       "      <td>11.015571</td>\n",
       "    </tr>\n",
       "    <tr>\n",
       "      <th>75%</th>\n",
       "      <td>1600.000000</td>\n",
       "      <td>3.000000</td>\n",
       "      <td>28.651593</td>\n",
       "      <td>77.224998</td>\n",
       "      <td>3.500000e+04</td>\n",
       "      <td>1.087740</td>\n",
       "      <td>17.163502</td>\n",
       "      <td>15.514042</td>\n",
       "      <td>15.192483</td>\n",
       "    </tr>\n",
       "    <tr>\n",
       "      <th>max</th>\n",
       "      <td>16521.000000</td>\n",
       "      <td>15.000000</td>\n",
       "      <td>28.872597</td>\n",
       "      <td>80.358467</td>\n",
       "      <td>5.885646e+06</td>\n",
       "      <td>1096.479453</td>\n",
       "      <td>1109.894053</td>\n",
       "      <td>1115.621439</td>\n",
       "      <td>1123.778457</td>\n",
       "    </tr>\n",
       "  </tbody>\n",
       "</table>\n",
       "</div>"
      ],
      "text/plain": [
       "         size_sq_ft      bedrooms      latitude     longitude         price  \\\n",
       "count  17890.000000  17890.000000  17890.000000  17890.000000  1.789000e+04   \n",
       "mean    1176.342091      2.168865     28.609382     77.168368  3.345196e+04   \n",
       "std      873.751044      0.971414      0.099547      0.097611  8.802054e+04   \n",
       "min      100.000000      1.000000     19.185120     73.213829  1.200000e+03   \n",
       "25%      620.000000      1.000000     28.562540     77.103718  1.350000e+04   \n",
       "50%      900.000000      2.000000     28.611803     77.168755  2.200000e+04   \n",
       "75%     1600.000000      3.000000     28.651593     77.224998  3.500000e+04   \n",
       "max    16521.000000     15.000000     28.872597     80.358467  5.885646e+06   \n",
       "\n",
       "       closest_mtero_station_km    AP_dist_km  Aiims_dist_km  NDRLW_dist_km  \n",
       "count              17890.000000  17890.000000   17890.000000   17890.000000  \n",
       "mean                   0.931495     13.727784      11.238134      11.421994  \n",
       "std                    8.287856     11.357063      11.167202      11.063323  \n",
       "min                    0.000692      1.784779       0.634508       0.722023  \n",
       "25%                    0.457782     11.018715       7.769267       7.986813  \n",
       "50%                    0.698560     13.184035      10.515524      11.015571  \n",
       "75%                    1.087740     17.163502      15.514042      15.192483  \n",
       "max                 1096.479453   1109.894053    1115.621439    1123.778457  "
      ]
     },
     "execution_count": 88,
     "metadata": {},
     "output_type": "execute_result"
    }
   ],
   "source": [
    "house_df.describe()"
   ]
  },
  {
   "cell_type": "markdown",
   "id": "d4df3e16",
   "metadata": {},
   "source": [
    "Here, we get to know some statistical information about our dataset."
   ]
  },
  {
   "cell_type": "code",
   "execution_count": 89,
   "id": "f4417851",
   "metadata": {},
   "outputs": [
    {
     "data": {
      "text/plain": [
       "size_sq_ft                  0\n",
       "propertyType                0\n",
       "bedrooms                    0\n",
       "latitude                    0\n",
       "longitude                   0\n",
       "localityName                0\n",
       "suburbName                  0\n",
       "cityName                    0\n",
       "price                       0\n",
       "companyName                 0\n",
       "closest_mtero_station_km    0\n",
       "AP_dist_km                  0\n",
       "Aiims_dist_km               0\n",
       "NDRLW_dist_km               0\n",
       "dtype: int64"
      ]
     },
     "execution_count": 89,
     "metadata": {},
     "output_type": "execute_result"
    }
   ],
   "source": [
    "house_df.isnull().sum()"
   ]
  },
  {
   "cell_type": "markdown",
   "id": "1f5aeb63",
   "metadata": {},
   "source": [
    "Thus, we don't have any null values in our dataset."
   ]
  },
  {
   "cell_type": "code",
   "execution_count": 90,
   "id": "86f14659",
   "metadata": {},
   "outputs": [
    {
     "data": {
      "text/plain": [
       "suburbName\n",
       "Delhi Central       2732\n",
       "Delhi East          1933\n",
       "Delhi North          176\n",
       "Delhi South         3749\n",
       "Delhi West           314\n",
       "Dwarka              2435\n",
       "North Delhi         1252\n",
       "North West Delhi      11\n",
       "Other               2706\n",
       "Rohini               274\n",
       "South West Delhi      86\n",
       "West Delhi          2222\n",
       "Name: suburbName, dtype: int64"
      ]
     },
     "execution_count": 90,
     "metadata": {},
     "output_type": "execute_result"
    }
   ],
   "source": [
    "house_df.groupby('suburbName')['suburbName'].agg('count')"
   ]
  },
  {
   "cell_type": "code",
   "execution_count": 135,
   "id": "3a2478d5",
   "metadata": {},
   "outputs": [
    {
     "data": {
      "text/html": [
       "<div>\n",
       "<style scoped>\n",
       "    .dataframe tbody tr th:only-of-type {\n",
       "        vertical-align: middle;\n",
       "    }\n",
       "\n",
       "    .dataframe tbody tr th {\n",
       "        vertical-align: top;\n",
       "    }\n",
       "\n",
       "    .dataframe thead th {\n",
       "        text-align: right;\n",
       "    }\n",
       "</style>\n",
       "<table border=\"1\" class=\"dataframe\">\n",
       "  <thead>\n",
       "    <tr style=\"text-align: right;\">\n",
       "      <th></th>\n",
       "      <th>size_sq_ft</th>\n",
       "      <th>bedrooms</th>\n",
       "      <th>localityName</th>\n",
       "      <th>suburbName</th>\n",
       "      <th>price</th>\n",
       "      <th>closest_mtero_station_km</th>\n",
       "    </tr>\n",
       "  </thead>\n",
       "  <tbody>\n",
       "    <tr>\n",
       "      <th>0</th>\n",
       "      <td>400</td>\n",
       "      <td>1</td>\n",
       "      <td>Swasthya Vihar</td>\n",
       "      <td>Delhi East</td>\n",
       "      <td>9000</td>\n",
       "      <td>0.577495</td>\n",
       "    </tr>\n",
       "    <tr>\n",
       "      <th>1</th>\n",
       "      <td>1050</td>\n",
       "      <td>2</td>\n",
       "      <td>mayur vihar phase 1</td>\n",
       "      <td>Delhi East</td>\n",
       "      <td>20000</td>\n",
       "      <td>0.417142</td>\n",
       "    </tr>\n",
       "    <tr>\n",
       "      <th>2</th>\n",
       "      <td>2250</td>\n",
       "      <td>2</td>\n",
       "      <td>Swasthya Vihar</td>\n",
       "      <td>Delhi East</td>\n",
       "      <td>28000</td>\n",
       "      <td>0.125136</td>\n",
       "    </tr>\n",
       "    <tr>\n",
       "      <th>3</th>\n",
       "      <td>1350</td>\n",
       "      <td>2</td>\n",
       "      <td>Krishna Nagar</td>\n",
       "      <td>Delhi East</td>\n",
       "      <td>28000</td>\n",
       "      <td>0.371709</td>\n",
       "    </tr>\n",
       "    <tr>\n",
       "      <th>4</th>\n",
       "      <td>450</td>\n",
       "      <td>2</td>\n",
       "      <td>New Ashok Nagar</td>\n",
       "      <td>Delhi East</td>\n",
       "      <td>12500</td>\n",
       "      <td>1.087760</td>\n",
       "    </tr>\n",
       "  </tbody>\n",
       "</table>\n",
       "</div>"
      ],
      "text/plain": [
       "   size_sq_ft  bedrooms         localityName  suburbName  price  \\\n",
       "0         400         1       Swasthya Vihar  Delhi East   9000   \n",
       "1        1050         2  mayur vihar phase 1  Delhi East  20000   \n",
       "2        2250         2       Swasthya Vihar  Delhi East  28000   \n",
       "3        1350         2        Krishna Nagar  Delhi East  28000   \n",
       "4         450         2      New Ashok Nagar  Delhi East  12500   \n",
       "\n",
       "   closest_mtero_station_km  \n",
       "0                  0.577495  \n",
       "1                  0.417142  \n",
       "2                  0.125136  \n",
       "3                  0.371709  \n",
       "4                  1.087760  "
      ]
     },
     "execution_count": 135,
     "metadata": {},
     "output_type": "execute_result"
    }
   ],
   "source": [
    "# Dropping the unnecessary columns.\n",
    "\n",
    "house_df2 = house_df.drop(['propertyType','latitude','longitude','cityName','companyName','AP_dist_km','Aiims_dist_km','NDRLW_dist_km'],axis=\"columns\")\n",
    "house_df2.head()"
   ]
  },
  {
   "cell_type": "code",
   "execution_count": 136,
   "id": "4a5bc845",
   "metadata": {},
   "outputs": [
    {
     "data": {
      "text/plain": [
       "array([ 1,  2,  3,  4,  5,  6,  7, 10, 15, 12,  8,  9], dtype=int64)"
      ]
     },
     "execution_count": 136,
     "metadata": {},
     "output_type": "execute_result"
    }
   ],
   "source": [
    "#Investigating the bedrooms column\n",
    "house_df2['bedrooms'].unique()"
   ]
  },
  {
   "cell_type": "code",
   "execution_count": 137,
   "id": "2787fac9",
   "metadata": {},
   "outputs": [],
   "source": [
    "# Renaming the bedrooms column as size_BHK to make it more readable and useful\n",
    "house_df2.rename(columns = {'bedrooms':'size_BHK'}, inplace = True)"
   ]
  },
  {
   "cell_type": "code",
   "execution_count": 138,
   "id": "d306f2c4",
   "metadata": {},
   "outputs": [
    {
     "data": {
      "text/html": [
       "<div>\n",
       "<style scoped>\n",
       "    .dataframe tbody tr th:only-of-type {\n",
       "        vertical-align: middle;\n",
       "    }\n",
       "\n",
       "    .dataframe tbody tr th {\n",
       "        vertical-align: top;\n",
       "    }\n",
       "\n",
       "    .dataframe thead th {\n",
       "        text-align: right;\n",
       "    }\n",
       "</style>\n",
       "<table border=\"1\" class=\"dataframe\">\n",
       "  <thead>\n",
       "    <tr style=\"text-align: right;\">\n",
       "      <th></th>\n",
       "      <th>size_sq_ft</th>\n",
       "      <th>size_BHK</th>\n",
       "      <th>localityName</th>\n",
       "      <th>suburbName</th>\n",
       "      <th>price</th>\n",
       "      <th>closest_mtero_station_km</th>\n",
       "    </tr>\n",
       "  </thead>\n",
       "  <tbody>\n",
       "    <tr>\n",
       "      <th>0</th>\n",
       "      <td>400</td>\n",
       "      <td>1</td>\n",
       "      <td>Swasthya Vihar</td>\n",
       "      <td>Delhi East</td>\n",
       "      <td>9000</td>\n",
       "      <td>0.577495</td>\n",
       "    </tr>\n",
       "    <tr>\n",
       "      <th>1</th>\n",
       "      <td>1050</td>\n",
       "      <td>2</td>\n",
       "      <td>mayur vihar phase 1</td>\n",
       "      <td>Delhi East</td>\n",
       "      <td>20000</td>\n",
       "      <td>0.417142</td>\n",
       "    </tr>\n",
       "    <tr>\n",
       "      <th>2</th>\n",
       "      <td>2250</td>\n",
       "      <td>2</td>\n",
       "      <td>Swasthya Vihar</td>\n",
       "      <td>Delhi East</td>\n",
       "      <td>28000</td>\n",
       "      <td>0.125136</td>\n",
       "    </tr>\n",
       "    <tr>\n",
       "      <th>3</th>\n",
       "      <td>1350</td>\n",
       "      <td>2</td>\n",
       "      <td>Krishna Nagar</td>\n",
       "      <td>Delhi East</td>\n",
       "      <td>28000</td>\n",
       "      <td>0.371709</td>\n",
       "    </tr>\n",
       "    <tr>\n",
       "      <th>4</th>\n",
       "      <td>450</td>\n",
       "      <td>2</td>\n",
       "      <td>New Ashok Nagar</td>\n",
       "      <td>Delhi East</td>\n",
       "      <td>12500</td>\n",
       "      <td>1.087760</td>\n",
       "    </tr>\n",
       "  </tbody>\n",
       "</table>\n",
       "</div>"
      ],
      "text/plain": [
       "   size_sq_ft  size_BHK         localityName  suburbName  price  \\\n",
       "0         400         1       Swasthya Vihar  Delhi East   9000   \n",
       "1        1050         2  mayur vihar phase 1  Delhi East  20000   \n",
       "2        2250         2       Swasthya Vihar  Delhi East  28000   \n",
       "3        1350         2        Krishna Nagar  Delhi East  28000   \n",
       "4         450         2      New Ashok Nagar  Delhi East  12500   \n",
       "\n",
       "   closest_mtero_station_km  \n",
       "0                  0.577495  \n",
       "1                  0.417142  \n",
       "2                  0.125136  \n",
       "3                  0.371709  \n",
       "4                  1.087760  "
      ]
     },
     "execution_count": 138,
     "metadata": {},
     "output_type": "execute_result"
    }
   ],
   "source": [
    "house_df2.head()"
   ]
  },
  {
   "cell_type": "code",
   "execution_count": 139,
   "id": "7fc8946f",
   "metadata": {},
   "outputs": [
    {
     "data": {
      "text/plain": [
       "array([  400,  1050,  2250,  1350,   450,   600,   900,   680,   360,\n",
       "         700,  1000,  1080,  3000,   500,   390,  1200,   800,  1700,\n",
       "        1150,  1800,   430,   350,   300,   270,   320,   650,  1300,\n",
       "         550,  1650,  2350,   530,  1550,  1400,   640,  2000,  1620,\n",
       "        1750,  1500,   200,   250,  1250,  1900,   750,  1950,  1850,\n",
       "        1600,  2450,  1100,  1450,   850,   210,   420,   620,   630,\n",
       "         370,   260,   280,   580,   180,   380,   480,   410,   220,\n",
       "         460,   490,   980,   590,   290,   398,   690,   240,   670,\n",
       "         698,   598,   340,   520,   540,   790,  2600,   860,   402,\n",
       "         465,   950,   219,  2200,  2300,  2400,   100,  2100,  1710,\n",
       "         651,   451,  1530,  2160,   760,   560,  2700,   517, 16000,\n",
       "       11000, 15000,   510,   378,   660,   555,  1780, 15800,   375,\n",
       "        1275,   160,   225,   150,   625,   675,   720,   455,  2140,\n",
       "         325,  4950,  1060,   985,  1790,  1510,   655,  4410,   995,\n",
       "        3600,  1953,  1755,  1665,  1403,  1390,  1183,  1524,   820,\n",
       "         815,  1560,  1540,   819,  1110,  3500,  2500,   775,   475,\n",
       "         190,   170,   178,  1210,   185,   165,  2150,   710,  1170,\n",
       "         470,   565,  1125,  1625,  1375,   230,   275,   235,   601,\n",
       "         445,   962,  1201,  1337,   740,   972,   656,  2070,   405,\n",
       "         315,   780,   968,   788,   396,   810,   756,   344,  1680,\n",
       "        1190,   888,  1758,   958,  1692,  1180,  1280,  1030,   352,\n",
       "        1090,   528,   990,   524,   440,  2448,  5000,  7000,  4500,\n",
       "         880,  1875,  6500,   865,  3375,  2750,   920,  3200,   890,\n",
       "        2225,  4000,  2800,   499,   960,   403,   940,   930,   401,\n",
       "         301,  5400,  1872,  2850,  1440,  1386,  1325,   461,  3100,\n",
       "        2430,  5500,  3400,  4200,  2835,  6000,  2385,  2925,  3249,\n",
       "        2340,  3450,  2799,  1320,  4400,  2900,  2950,  3850,  2880,\n",
       "        3060,  3825,  4050,  2475,   399,  4700,  3150,  2709,  1140,\n",
       "        7200,  7500,  9000,  1908,  4230,  2050,  5600,  1570,  1360,\n",
       "         585,  1580,  1585,  1490,   545,   845,   875,  1690,   895,\n",
       "         575,  1640,  1760,   915,   595,  1675,  1575,   610,   885,\n",
       "         870,  1485,  1545,  1655,  1785,  1630,   910,  1460,   665,\n",
       "        1980,  1890,  1935,  6300,  5715,  5490,  4725,  3690,  2906,\n",
       "        2384,  2970,  1770,  2826,   825,  4680,  1130,  1645,  1480,\n",
       "        1260,   581,   525,   896,  1820,  1292,   735,   847,  1105,\n",
       "        1305,   759,  1215,  1880,   789,   729,   798,   459,   955,\n",
       "         546,   689,   289,  1152,   753,  1220,   730,   725,   925,\n",
       "        1020,   551,  3250,   840,  1462,   539,   645,   538,   345,\n",
       "         969,   830,   592,  2001,   881,   765,   330,  1860,   425,\n",
       "         570,   754,  1145,  2025,  1008,  1240,   832,   507,  1777,\n",
       "         288,  1638,   488,   485,   468,  2192,   189,  1076,  2034,\n",
       "        1345,   764,   823,  1120,  1197,  1999,  1253,   431,   579,\n",
       "         534,   702,   966,   741,   745,   852,   874,   742,   854,\n",
       "         785,   784,  1206,  1422,   562,  1382,   693,  1385,  1428,\n",
       "        2234,   552,   658,   699,   691,   521,   652,   642,   265,\n",
       "         199, 12000,  3420,  3240,  2230,  1114,  1025,   882,  1941,\n",
       "        1756,  1601,   415,  1768,  1786,  2540,  1896,  2358,  1920,\n",
       "        2622,  2388,   505,  1652,  1658,  1258,  1358,  1685,  1582,\n",
       "        2258,  1725,  1528,  2052,  1052,  1752,  2205,  1852,  2105,\n",
       "        2520,  1205,  2550,  2580,  2290,  1380,  1720,  1958,  1425,\n",
       "        2650,  3800,  2302,  2058,  1628,   221,  2215,  1727,  1856,\n",
       "        1825,  1858,  2415,  1925,  1245,  2040,  1855,  1765,  1865,\n",
       "        2165,  1095,  1730,  1840,  1310,  2265,  2130,  2210,  2910,\n",
       "        1666,  1230,  1644,  1147,   495,   796,  3300,   654,   285,\n",
       "        1111,   987,   844,   258,   252,   299,   876,   767,   542,\n",
       "         878,   385,   948,   766,   541,   452,   626,   456,   757,\n",
       "         608,   951,   685,   856,   746,   877,   898,   676,   748,\n",
       "         984,   678,   747,   782,   687,  1075,   965,   954,   454,\n",
       "         544,   897,   964,   744,  1175,   657,   457,   547,   356,\n",
       "         458,   576,   326,   988,   653,   543,   879,   548,   474,\n",
       "         787,   975,   567,   584,   705,   957,  1155,  1415,   941,\n",
       "         489,  6521,  7521,  5412,  1753,  2985,  1660,  1505, 15515,\n",
       "       16521,  8521,   437,  1810,  8562, 15562,  6541, 11010,   333,\n",
       "         643,   486,   977,   629,   634,   599,   512,   569,  1475,\n",
       "        1225,   376,   777,   769,   354,   359,   423,   365,   357,\n",
       "        4800,   377,   677,  3015,  2038,  1128,  1247,   945,   412,\n",
       "         603, 10000,  8000, 10800,  2871,   639,   672,  2367,   646,\n",
       "        2097,   648,   867,   516,  2330,   559,  1291,   255,  1802,\n",
       "         110,  7260,  4840,  4880, 15500,  9500,  5562,  5521,  5211,\n",
       "         926,   515,   130,   205,  1586,  5523,   413,  4521,   433,\n",
       "         438,  1040,   532,  1452,  4112,  1070,   535,   419,  5852,\n",
       "        4562,  1270,   855,  6854,  1232,   853,   422,   618,  1627,\n",
       "         684,  2185,  2175,  2597,  1897,  2085,  2527,  1996,  2390,\n",
       "        2170,  3475,  1987,  1869,  1195,  1851,   901,  2095,   778,\n",
       "         435,   436,   442,   421,   891,  1557,   970,  3165,  1870,\n",
       "        1101,  3625,   483,   476,  1751,   312,   501,   183,  7803,\n",
       "        1910,   713,  1420,  1048,   770,   558,  1591,   406,  1566,\n",
       "         140,   752,  1894,   621,   731,   206,   395], dtype=int64)"
      ]
     },
     "execution_count": 139,
     "metadata": {},
     "output_type": "execute_result"
    }
   ],
   "source": [
    "house_df2['size_sq_ft'].unique()"
   ]
  },
  {
   "cell_type": "code",
   "execution_count": 140,
   "id": "e82cdb69",
   "metadata": {},
   "outputs": [
    {
     "data": {
      "text/html": [
       "<div>\n",
       "<style scoped>\n",
       "    .dataframe tbody tr th:only-of-type {\n",
       "        vertical-align: middle;\n",
       "    }\n",
       "\n",
       "    .dataframe tbody tr th {\n",
       "        vertical-align: top;\n",
       "    }\n",
       "\n",
       "    .dataframe thead th {\n",
       "        text-align: right;\n",
       "    }\n",
       "</style>\n",
       "<table border=\"1\" class=\"dataframe\">\n",
       "  <thead>\n",
       "    <tr style=\"text-align: right;\">\n",
       "      <th></th>\n",
       "      <th>size_sq_ft</th>\n",
       "      <th>size_BHK</th>\n",
       "      <th>localityName</th>\n",
       "      <th>suburbName</th>\n",
       "      <th>price</th>\n",
       "      <th>closest_mtero_station_km</th>\n",
       "      <th>price_per_sqft</th>\n",
       "    </tr>\n",
       "  </thead>\n",
       "  <tbody>\n",
       "    <tr>\n",
       "      <th>0</th>\n",
       "      <td>400</td>\n",
       "      <td>1</td>\n",
       "      <td>Swasthya Vihar</td>\n",
       "      <td>Delhi East</td>\n",
       "      <td>9000</td>\n",
       "      <td>0.577495</td>\n",
       "      <td>22.500000</td>\n",
       "    </tr>\n",
       "    <tr>\n",
       "      <th>1</th>\n",
       "      <td>1050</td>\n",
       "      <td>2</td>\n",
       "      <td>mayur vihar phase 1</td>\n",
       "      <td>Delhi East</td>\n",
       "      <td>20000</td>\n",
       "      <td>0.417142</td>\n",
       "      <td>19.047619</td>\n",
       "    </tr>\n",
       "    <tr>\n",
       "      <th>2</th>\n",
       "      <td>2250</td>\n",
       "      <td>2</td>\n",
       "      <td>Swasthya Vihar</td>\n",
       "      <td>Delhi East</td>\n",
       "      <td>28000</td>\n",
       "      <td>0.125136</td>\n",
       "      <td>12.444444</td>\n",
       "    </tr>\n",
       "    <tr>\n",
       "      <th>3</th>\n",
       "      <td>1350</td>\n",
       "      <td>2</td>\n",
       "      <td>Krishna Nagar</td>\n",
       "      <td>Delhi East</td>\n",
       "      <td>28000</td>\n",
       "      <td>0.371709</td>\n",
       "      <td>20.740741</td>\n",
       "    </tr>\n",
       "    <tr>\n",
       "      <th>4</th>\n",
       "      <td>450</td>\n",
       "      <td>2</td>\n",
       "      <td>New Ashok Nagar</td>\n",
       "      <td>Delhi East</td>\n",
       "      <td>12500</td>\n",
       "      <td>1.087760</td>\n",
       "      <td>27.777778</td>\n",
       "    </tr>\n",
       "  </tbody>\n",
       "</table>\n",
       "</div>"
      ],
      "text/plain": [
       "   size_sq_ft  size_BHK         localityName  suburbName  price  \\\n",
       "0         400         1       Swasthya Vihar  Delhi East   9000   \n",
       "1        1050         2  mayur vihar phase 1  Delhi East  20000   \n",
       "2        2250         2       Swasthya Vihar  Delhi East  28000   \n",
       "3        1350         2        Krishna Nagar  Delhi East  28000   \n",
       "4         450         2      New Ashok Nagar  Delhi East  12500   \n",
       "\n",
       "   closest_mtero_station_km  price_per_sqft  \n",
       "0                  0.577495       22.500000  \n",
       "1                  0.417142       19.047619  \n",
       "2                  0.125136       12.444444  \n",
       "3                  0.371709       20.740741  \n",
       "4                  1.087760       27.777778  "
      ]
     },
     "execution_count": 140,
     "metadata": {},
     "output_type": "execute_result"
    }
   ],
   "source": [
    "house_df2['price_per_sqft']=house_df2['price']/house_df2['size_sq_ft']\n",
    "house_df2.head()"
   ]
  },
  {
   "cell_type": "code",
   "execution_count": 141,
   "id": "35e663cb",
   "metadata": {},
   "outputs": [
    {
     "data": {
      "text/plain": [
       "781"
      ]
     },
     "execution_count": 141,
     "metadata": {},
     "output_type": "execute_result"
    }
   ],
   "source": [
    "len(house_df2.localityName.unique())"
   ]
  },
  {
   "cell_type": "markdown",
   "id": "fa58eb38",
   "metadata": {},
   "source": [
    "Hence, we see that we have so many localities in Delhi. This is a dimensinality problem in the analysis and to over come it that is to reduce the dimension we will first find out the localities which are associated with very few data points and then replace them by Other."
   ]
  },
  {
   "cell_type": "code",
   "execution_count": 142,
   "id": "c0ff58d3",
   "metadata": {},
   "outputs": [
    {
     "data": {
      "text/plain": [
       "localityName\n",
       "Patel Nagar                  1448\n",
       "Paschim Vihar                 949\n",
       "Chattarpur                    826\n",
       "Pitampura                     609\n",
       "mayur vihar phase 1           523\n",
       "                             ... \n",
       "Sector 12                       1\n",
       "Sector 11 Dwarka Pocket 2       1\n",
       "Jagat Ram Park                  1\n",
       "Sector 11                       1\n",
       "10 Sector Dwarka                1\n",
       "Name: localityName, Length: 781, dtype: int64"
      ]
     },
     "execution_count": 142,
     "metadata": {},
     "output_type": "execute_result"
    }
   ],
   "source": [
    "house_df2.localityName = house_df2.localityName.apply(lambda x : x.strip())\n",
    "locality_stats = house_df2.groupby('localityName')['localityName'].agg('count').sort_values(ascending=False)\n",
    "locality_stats"
   ]
  },
  {
   "cell_type": "code",
   "execution_count": 143,
   "id": "3c7e3667",
   "metadata": {},
   "outputs": [
    {
     "data": {
      "text/plain": [
       "599"
      ]
     },
     "execution_count": 143,
     "metadata": {},
     "output_type": "execute_result"
    }
   ],
   "source": [
    "len(locality_stats[locality_stats<=10])"
   ]
  },
  {
   "cell_type": "code",
   "execution_count": 144,
   "id": "1b3088ac",
   "metadata": {},
   "outputs": [],
   "source": [
    "localities_with_less_than_10_points = locality_stats[locality_stats<=10]"
   ]
  },
  {
   "cell_type": "code",
   "execution_count": 145,
   "id": "04412d9d",
   "metadata": {},
   "outputs": [
    {
     "data": {
      "text/plain": [
       "183"
      ]
     },
     "execution_count": 145,
     "metadata": {},
     "output_type": "execute_result"
    }
   ],
   "source": [
    "house_df2.localityName= house_df2.localityName.apply(lambda x: 'Other' if x in localities_with_less_than_10_points else x)\n",
    "len(house_df2.localityName.unique())"
   ]
  },
  {
   "cell_type": "markdown",
   "id": "a88412cf",
   "metadata": {},
   "source": [
    "Wohooo !! We finally have 183 localities in our dataset now, and this sounds really sorted."
   ]
  },
  {
   "cell_type": "code",
   "execution_count": 146,
   "id": "5a701647",
   "metadata": {},
   "outputs": [
    {
     "data": {
      "text/plain": [
       "size_sq_ft                  1144\n",
       "size_BHK                    1144\n",
       "localityName                1144\n",
       "suburbName                  1144\n",
       "price                       1144\n",
       "closest_mtero_station_km    1144\n",
       "price_per_sqft              1144\n",
       "dtype: int64"
      ]
     },
     "execution_count": 146,
     "metadata": {},
     "output_type": "execute_result"
    }
   ],
   "source": [
    "#Checking for irregularities\n",
    "house_df2[house_df2.size_sq_ft/house_df2.size_BHK<300].agg('count')"
   ]
  },
  {
   "cell_type": "code",
   "execution_count": 147,
   "id": "84e8f3af",
   "metadata": {},
   "outputs": [
    {
     "data": {
      "text/plain": [
       "(16746, 7)"
      ]
     },
     "execution_count": 147,
     "metadata": {},
     "output_type": "execute_result"
    }
   ],
   "source": [
    "house_df2=house_df2[~(house_df2.size_sq_ft/house_df2.size_BHK<300)]\n",
    "house_df2.shape"
   ]
  },
  {
   "cell_type": "code",
   "execution_count": 148,
   "id": "81d04abb",
   "metadata": {},
   "outputs": [],
   "source": [
    "# Renaming the suburbs , i.e, naming them accurately for example:-\n",
    "# North Delhi and Delhi North are same and should be named as North Delhi.\n",
    "\n",
    "house_df2['suburbName'].replace('Delhi North','North Delhi',inplace=True)\n",
    "house_df2['suburbName'].replace('Delhi West','West Delhi',inplace=True)\n",
    "house_df2['suburbName'].replace('Delhi East','East Delhi',inplace=True)\n",
    "house_df2['suburbName'].replace('Delhi South','South Delhi',inplace=True)\n",
    "house_df2['suburbName'].replace('Delhi Central','Central Delhi',inplace=True)\n",
    "house_df2.rename(columns = {'suburbName':'District'}, inplace = True)"
   ]
  },
  {
   "cell_type": "code",
   "execution_count": 149,
   "id": "87798fc2",
   "metadata": {},
   "outputs": [
    {
     "data": {
      "text/plain": [
       "array(['East Delhi', 'Rohini', 'South Delhi', 'West Delhi', 'North Delhi',\n",
       "       'Dwarka', 'Central Delhi', 'Other', 'South West Delhi',\n",
       "       'North West Delhi'], dtype=object)"
      ]
     },
     "execution_count": 149,
     "metadata": {},
     "output_type": "execute_result"
    }
   ],
   "source": [
    "house_df2.District.unique()"
   ]
  },
  {
   "cell_type": "markdown",
   "id": "aaadb5b3",
   "metadata": {},
   "source": [
    "### Data Analysis and Visualisation"
   ]
  },
  {
   "cell_type": "code",
   "execution_count": 151,
   "id": "72d194c6",
   "metadata": {},
   "outputs": [
    {
     "data": {
      "text/plain": [
       "Text(0, 0.5, 'Price per SqFt')"
      ]
     },
     "execution_count": 151,
     "metadata": {},
     "output_type": "execute_result"
    },
    {
     "data": {
      "image/png": "[encoded data removed]",
      "text/plain": [
       "<Figure size 1440x720 with 1 Axes>"
      ]
     },
     "metadata": {
      "needs_background": "light"
     },
     "output_type": "display_data"
    }
   ],
   "source": [
    "scatter_plot = sns.scatterplot(data=house_df2,x=\"size_BHK\", y=\"price_per_sqft\",hue='District')\n",
    "scatter_plot.set_xlabel('No. of bedrooms', fontdict ={'size':15})\n",
    "scatter_plot.set_ylabel('Price per SqFt', fontdict ={'size':15})"
   ]
  },
  {
   "cell_type": "markdown",
   "id": "c987d19c",
   "metadata": {},
   "source": [
    "From the above plot, we get to know that on an average basis, West Delhi as small flats with 4 as the maximum nunber of rooms and the prices are also quite low. \n",
    "Central Delhi has an intermediate price range for flats with upto 6 rooms but for bigger flats the price increases.\n",
    "South Delhi has big flats with more than 6 rooms in a fair price range.\n",
    "North Delhi has high price range for even small flats with upto 6 rooms."
   ]
  },
  {
   "cell_type": "code",
   "execution_count": 152,
   "id": "a5fd2dc0",
   "metadata": {},
   "outputs": [
    {
     "data": {
      "text/plain": [
       "Text(0, 0.5, 'Count')"
      ]
     },
     "execution_count": 152,
     "metadata": {},
     "output_type": "execute_result"
    },
    {
     "data": {
      "image/png": "[encoded data removed]",
      "text/plain": [
       "<Figure size 1440x720 with 1 Axes>"
      ]
     },
     "metadata": {
      "needs_background": "light"
     },
     "output_type": "display_data"
    }
   ],
   "source": [
    "plt.hist(house_df2.price_per_sqft, rwidth=0.8)\n",
    "plt.xlabel(\"Price per Square Feet\")\n",
    "plt.ylabel(\"Count\")"
   ]
  },
  {
   "cell_type": "markdown",
   "id": "0030cb74",
   "metadata": {},
   "source": [
    "So, we see that majority of the flats are in the range of 0 to 100 price per sqft, which indeed is good."
   ]
  },
  {
   "cell_type": "code",
   "execution_count": 114,
   "id": "d5b7863d",
   "metadata": {},
   "outputs": [
    {
     "data": {
      "text/plain": [
       "count    16746.000000\n",
       "mean         0.941129\n",
       "std          8.564025\n",
       "min          0.000692\n",
       "25%          0.461539\n",
       "50%          0.707966\n",
       "75%          1.099802\n",
       "max       1096.479453\n",
       "Name: closest_mtero_station_km, dtype: float64"
      ]
     },
     "execution_count": 114,
     "metadata": {},
     "output_type": "execute_result"
    }
   ],
   "source": [
    "house_df2.closest_mtero_station_km.describe()"
   ]
  },
  {
   "cell_type": "code",
   "execution_count": 158,
   "id": "bbe9c5e8",
   "metadata": {},
   "outputs": [
    {
     "data": {
      "text/html": [
       "<div>\n",
       "<style scoped>\n",
       "    .dataframe tbody tr th:only-of-type {\n",
       "        vertical-align: middle;\n",
       "    }\n",
       "\n",
       "    .dataframe tbody tr th {\n",
       "        vertical-align: top;\n",
       "    }\n",
       "\n",
       "    .dataframe thead th {\n",
       "        text-align: right;\n",
       "    }\n",
       "</style>\n",
       "<table border=\"1\" class=\"dataframe\">\n",
       "  <thead>\n",
       "    <tr style=\"text-align: right;\">\n",
       "      <th></th>\n",
       "      <th>size_sq_ft</th>\n",
       "      <th>size_BHK</th>\n",
       "      <th>localityName</th>\n",
       "      <th>District</th>\n",
       "      <th>price</th>\n",
       "      <th>price_per_sqft</th>\n",
       "      <th>closest_mtero_station_metres</th>\n",
       "    </tr>\n",
       "  </thead>\n",
       "  <tbody>\n",
       "    <tr>\n",
       "      <th>0</th>\n",
       "      <td>400</td>\n",
       "      <td>1</td>\n",
       "      <td>Swasthya Vihar</td>\n",
       "      <td>East Delhi</td>\n",
       "      <td>9000</td>\n",
       "      <td>22.500000</td>\n",
       "      <td>577.495488</td>\n",
       "    </tr>\n",
       "    <tr>\n",
       "      <th>1</th>\n",
       "      <td>1050</td>\n",
       "      <td>2</td>\n",
       "      <td>mayur vihar phase 1</td>\n",
       "      <td>East Delhi</td>\n",
       "      <td>20000</td>\n",
       "      <td>19.047619</td>\n",
       "      <td>417.142283</td>\n",
       "    </tr>\n",
       "    <tr>\n",
       "      <th>2</th>\n",
       "      <td>2250</td>\n",
       "      <td>2</td>\n",
       "      <td>Swasthya Vihar</td>\n",
       "      <td>East Delhi</td>\n",
       "      <td>28000</td>\n",
       "      <td>12.444444</td>\n",
       "      <td>125.136043</td>\n",
       "    </tr>\n",
       "    <tr>\n",
       "      <th>3</th>\n",
       "      <td>1350</td>\n",
       "      <td>2</td>\n",
       "      <td>Krishna Nagar</td>\n",
       "      <td>East Delhi</td>\n",
       "      <td>28000</td>\n",
       "      <td>20.740741</td>\n",
       "      <td>371.709423</td>\n",
       "    </tr>\n",
       "    <tr>\n",
       "      <th>5</th>\n",
       "      <td>600</td>\n",
       "      <td>2</td>\n",
       "      <td>New Ashok Nagar</td>\n",
       "      <td>East Delhi</td>\n",
       "      <td>10000</td>\n",
       "      <td>16.666667</td>\n",
       "      <td>523.298135</td>\n",
       "    </tr>\n",
       "  </tbody>\n",
       "</table>\n",
       "</div>"
      ],
      "text/plain": [
       "   size_sq_ft  size_BHK         localityName    District  price  \\\n",
       "0         400         1       Swasthya Vihar  East Delhi   9000   \n",
       "1        1050         2  mayur vihar phase 1  East Delhi  20000   \n",
       "2        2250         2       Swasthya Vihar  East Delhi  28000   \n",
       "3        1350         2        Krishna Nagar  East Delhi  28000   \n",
       "5         600         2      New Ashok Nagar  East Delhi  10000   \n",
       "\n",
       "   price_per_sqft  closest_mtero_station_metres  \n",
       "0       22.500000                    577.495488  \n",
       "1       19.047619                    417.142283  \n",
       "2       12.444444                    125.136043  \n",
       "3       20.740741                    371.709423  \n",
       "5       16.666667                    523.298135  "
      ]
     },
     "execution_count": 158,
     "metadata": {},
     "output_type": "execute_result"
    }
   ],
   "source": [
    "house_df2[\"closest_mtero_station_metres\"]=house_df2[\"closest_mtero_station_km\"]*1000\n",
    "house_df3 = house_df2.drop(['closest_mtero_station_km'], axis='columns')\n",
    "house_df3.head()"
   ]
  },
  {
   "cell_type": "code",
   "execution_count": 157,
   "id": "c507485d",
   "metadata": {},
   "outputs": [
    {
     "name": "stderr",
     "output_type": "stream",
     "text": [
      "C:\\Users\\hp\\anaconda3\\lib\\site-packages\\seaborn\\distributions.py:2619: FutureWarning: `distplot` is a deprecated function and will be removed in a future version. Please adapt your code to use either `displot` (a figure-level function with similar flexibility) or `histplot` (an axes-level function for histograms).\n",
      "  warnings.warn(msg, FutureWarning)\n"
     ]
    },
    {
     "data": {
      "text/plain": [
       "<AxesSubplot:xlabel='closest_mtero_station_metres', ylabel='Density'>"
      ]
     },
     "execution_count": 157,
     "metadata": {},
     "output_type": "execute_result"
    },
    {
     "data": {
      "image/png": "[encoded data removed]",
      "text/plain": [
       "<Figure size 1440x720 with 1 Axes>"
      ]
     },
     "metadata": {
      "needs_background": "light"
     },
     "output_type": "display_data"
    }
   ],
   "source": [
    "sns.distplot(house_df3[\"closest_mtero_station_metres\"],color='hotpink')"
   ]
  },
  {
   "cell_type": "markdown",
   "id": "fc43f6e1",
   "metadata": {},
   "source": [
    "From the above plot we conclude that most of the flats are located close to the metro stations."
   ]
  },
  {
   "cell_type": "code",
   "execution_count": 134,
   "id": "5e9efeb9",
   "metadata": {},
   "outputs": [
    {
     "data": {
      "text/plain": [
       "<AxesSubplot:xlabel='District'>"
      ]
     },
     "execution_count": 134,
     "metadata": {},
     "output_type": "execute_result"
    },
    {
     "data": {
      "image/png": "[encoded data removed]",
      "text/plain": [
       "<Figure size 1440x720 with 1 Axes>"
      ]
     },
     "metadata": {
      "needs_background": "light"
     },
     "output_type": "display_data"
    }
   ],
   "source": [
    "my_colors=['blue','red','yellow','purple','orange','green','brown','lightblue','black','pink']\n",
    "house_df3.groupby(['District']).sum().plot( kind='bar', y='closest_mtero_station_metres', color=my_colors) "
   ]
  },
  {
   "cell_type": "markdown",
   "id": "f1d49c14",
   "metadata": {},
   "source": [
    "From the above plot we conclude that most of the flats in North West Delhi, Rohini and South West Delhi are really close to metro stations whereas, houses in South Delhi are quite far from metro stations."
   ]
  },
  {
   "cell_type": "markdown",
   "id": "b8dad7e0",
   "metadata": {},
   "source": [
    "## Data Modelling"
   ]
  },
  {
   "cell_type": "code",
   "execution_count": 154,
   "id": "c868b8fc",
   "metadata": {},
   "outputs": [
    {
     "data": {
      "text/html": [
       "<div>\n",
       "<style scoped>\n",
       "    .dataframe tbody tr th:only-of-type {\n",
       "        vertical-align: middle;\n",
       "    }\n",
       "\n",
       "    .dataframe tbody tr th {\n",
       "        vertical-align: top;\n",
       "    }\n",
       "\n",
       "    .dataframe thead th {\n",
       "        text-align: right;\n",
       "    }\n",
       "</style>\n",
       "<table border=\"1\" class=\"dataframe\">\n",
       "  <thead>\n",
       "    <tr style=\"text-align: right;\">\n",
       "      <th></th>\n",
       "      <th>Central Delhi</th>\n",
       "      <th>Dwarka</th>\n",
       "      <th>East Delhi</th>\n",
       "      <th>North Delhi</th>\n",
       "      <th>North West Delhi</th>\n",
       "      <th>Other</th>\n",
       "      <th>Rohini</th>\n",
       "      <th>South Delhi</th>\n",
       "      <th>South West Delhi</th>\n",
       "      <th>West Delhi</th>\n",
       "    </tr>\n",
       "  </thead>\n",
       "  <tbody>\n",
       "    <tr>\n",
       "      <th>0</th>\n",
       "      <td>0</td>\n",
       "      <td>0</td>\n",
       "      <td>1</td>\n",
       "      <td>0</td>\n",
       "      <td>0</td>\n",
       "      <td>0</td>\n",
       "      <td>0</td>\n",
       "      <td>0</td>\n",
       "      <td>0</td>\n",
       "      <td>0</td>\n",
       "    </tr>\n",
       "    <tr>\n",
       "      <th>1</th>\n",
       "      <td>0</td>\n",
       "      <td>0</td>\n",
       "      <td>1</td>\n",
       "      <td>0</td>\n",
       "      <td>0</td>\n",
       "      <td>0</td>\n",
       "      <td>0</td>\n",
       "      <td>0</td>\n",
       "      <td>0</td>\n",
       "      <td>0</td>\n",
       "    </tr>\n",
       "    <tr>\n",
       "      <th>2</th>\n",
       "      <td>0</td>\n",
       "      <td>0</td>\n",
       "      <td>1</td>\n",
       "      <td>0</td>\n",
       "      <td>0</td>\n",
       "      <td>0</td>\n",
       "      <td>0</td>\n",
       "      <td>0</td>\n",
       "      <td>0</td>\n",
       "      <td>0</td>\n",
       "    </tr>\n",
       "    <tr>\n",
       "      <th>3</th>\n",
       "      <td>0</td>\n",
       "      <td>0</td>\n",
       "      <td>1</td>\n",
       "      <td>0</td>\n",
       "      <td>0</td>\n",
       "      <td>0</td>\n",
       "      <td>0</td>\n",
       "      <td>0</td>\n",
       "      <td>0</td>\n",
       "      <td>0</td>\n",
       "    </tr>\n",
       "    <tr>\n",
       "      <th>5</th>\n",
       "      <td>0</td>\n",
       "      <td>0</td>\n",
       "      <td>1</td>\n",
       "      <td>0</td>\n",
       "      <td>0</td>\n",
       "      <td>0</td>\n",
       "      <td>0</td>\n",
       "      <td>0</td>\n",
       "      <td>0</td>\n",
       "      <td>0</td>\n",
       "    </tr>\n",
       "  </tbody>\n",
       "</table>\n",
       "</div>"
      ],
      "text/plain": [
       "   Central Delhi  Dwarka  East Delhi  North Delhi  North West Delhi  Other  \\\n",
       "0              0       0           1            0                 0      0   \n",
       "1              0       0           1            0                 0      0   \n",
       "2              0       0           1            0                 0      0   \n",
       "3              0       0           1            0                 0      0   \n",
       "5              0       0           1            0                 0      0   \n",
       "\n",
       "   Rohini  South Delhi  South West Delhi  West Delhi  \n",
       "0       0            0                 0           0  \n",
       "1       0            0                 0           0  \n",
       "2       0            0                 0           0  \n",
       "3       0            0                 0           0  \n",
       "5       0            0                 0           0  "
      ]
     },
     "execution_count": 154,
     "metadata": {},
     "output_type": "execute_result"
    }
   ],
   "source": [
    "district_dummies = pd.get_dummies(house_df3.District)\n",
    "district_dummies.head()"
   ]
  },
  {
   "cell_type": "code",
   "execution_count": 160,
   "id": "ba21a4fb",
   "metadata": {},
   "outputs": [],
   "source": [
    "house_df4=pd.concat([house_df3,district_dummies.drop('West Delhi', axis='columns')], axis='columns')"
   ]
  },
  {
   "cell_type": "code",
   "execution_count": 161,
   "id": "58aa4e69",
   "metadata": {},
   "outputs": [
    {
     "data": {
      "text/html": [
       "<div>\n",
       "<style scoped>\n",
       "    .dataframe tbody tr th:only-of-type {\n",
       "        vertical-align: middle;\n",
       "    }\n",
       "\n",
       "    .dataframe tbody tr th {\n",
       "        vertical-align: top;\n",
       "    }\n",
       "\n",
       "    .dataframe thead th {\n",
       "        text-align: right;\n",
       "    }\n",
       "</style>\n",
       "<table border=\"1\" class=\"dataframe\">\n",
       "  <thead>\n",
       "    <tr style=\"text-align: right;\">\n",
       "      <th></th>\n",
       "      <th>size_sq_ft</th>\n",
       "      <th>size_BHK</th>\n",
       "      <th>localityName</th>\n",
       "      <th>District</th>\n",
       "      <th>price</th>\n",
       "      <th>price_per_sqft</th>\n",
       "      <th>closest_mtero_station_metres</th>\n",
       "      <th>Central Delhi</th>\n",
       "      <th>Dwarka</th>\n",
       "      <th>East Delhi</th>\n",
       "      <th>North Delhi</th>\n",
       "      <th>North West Delhi</th>\n",
       "      <th>Other</th>\n",
       "      <th>Rohini</th>\n",
       "      <th>South Delhi</th>\n",
       "      <th>South West Delhi</th>\n",
       "    </tr>\n",
       "  </thead>\n",
       "  <tbody>\n",
       "    <tr>\n",
       "      <th>0</th>\n",
       "      <td>400</td>\n",
       "      <td>1</td>\n",
       "      <td>Swasthya Vihar</td>\n",
       "      <td>East Delhi</td>\n",
       "      <td>9000</td>\n",
       "      <td>22.500000</td>\n",
       "      <td>577.495488</td>\n",
       "      <td>0</td>\n",
       "      <td>0</td>\n",
       "      <td>1</td>\n",
       "      <td>0</td>\n",
       "      <td>0</td>\n",
       "      <td>0</td>\n",
       "      <td>0</td>\n",
       "      <td>0</td>\n",
       "      <td>0</td>\n",
       "    </tr>\n",
       "    <tr>\n",
       "      <th>1</th>\n",
       "      <td>1050</td>\n",
       "      <td>2</td>\n",
       "      <td>mayur vihar phase 1</td>\n",
       "      <td>East Delhi</td>\n",
       "      <td>20000</td>\n",
       "      <td>19.047619</td>\n",
       "      <td>417.142283</td>\n",
       "      <td>0</td>\n",
       "      <td>0</td>\n",
       "      <td>1</td>\n",
       "      <td>0</td>\n",
       "      <td>0</td>\n",
       "      <td>0</td>\n",
       "      <td>0</td>\n",
       "      <td>0</td>\n",
       "      <td>0</td>\n",
       "    </tr>\n",
       "    <tr>\n",
       "      <th>2</th>\n",
       "      <td>2250</td>\n",
       "      <td>2</td>\n",
       "      <td>Swasthya Vihar</td>\n",
       "      <td>East Delhi</td>\n",
       "      <td>28000</td>\n",
       "      <td>12.444444</td>\n",
       "      <td>125.136043</td>\n",
       "      <td>0</td>\n",
       "      <td>0</td>\n",
       "      <td>1</td>\n",
       "      <td>0</td>\n",
       "      <td>0</td>\n",
       "      <td>0</td>\n",
       "      <td>0</td>\n",
       "      <td>0</td>\n",
       "      <td>0</td>\n",
       "    </tr>\n",
       "    <tr>\n",
       "      <th>3</th>\n",
       "      <td>1350</td>\n",
       "      <td>2</td>\n",
       "      <td>Krishna Nagar</td>\n",
       "      <td>East Delhi</td>\n",
       "      <td>28000</td>\n",
       "      <td>20.740741</td>\n",
       "      <td>371.709423</td>\n",
       "      <td>0</td>\n",
       "      <td>0</td>\n",
       "      <td>1</td>\n",
       "      <td>0</td>\n",
       "      <td>0</td>\n",
       "      <td>0</td>\n",
       "      <td>0</td>\n",
       "      <td>0</td>\n",
       "      <td>0</td>\n",
       "    </tr>\n",
       "    <tr>\n",
       "      <th>5</th>\n",
       "      <td>600</td>\n",
       "      <td>2</td>\n",
       "      <td>New Ashok Nagar</td>\n",
       "      <td>East Delhi</td>\n",
       "      <td>10000</td>\n",
       "      <td>16.666667</td>\n",
       "      <td>523.298135</td>\n",
       "      <td>0</td>\n",
       "      <td>0</td>\n",
       "      <td>1</td>\n",
       "      <td>0</td>\n",
       "      <td>0</td>\n",
       "      <td>0</td>\n",
       "      <td>0</td>\n",
       "      <td>0</td>\n",
       "      <td>0</td>\n",
       "    </tr>\n",
       "  </tbody>\n",
       "</table>\n",
       "</div>"
      ],
      "text/plain": [
       "   size_sq_ft  size_BHK         localityName    District  price  \\\n",
       "0         400         1       Swasthya Vihar  East Delhi   9000   \n",
       "1        1050         2  mayur vihar phase 1  East Delhi  20000   \n",
       "2        2250         2       Swasthya Vihar  East Delhi  28000   \n",
       "3        1350         2        Krishna Nagar  East Delhi  28000   \n",
       "5         600         2      New Ashok Nagar  East Delhi  10000   \n",
       "\n",
       "   price_per_sqft  closest_mtero_station_metres  Central Delhi  Dwarka  \\\n",
       "0       22.500000                    577.495488              0       0   \n",
       "1       19.047619                    417.142283              0       0   \n",
       "2       12.444444                    125.136043              0       0   \n",
       "3       20.740741                    371.709423              0       0   \n",
       "5       16.666667                    523.298135              0       0   \n",
       "\n",
       "   East Delhi  North Delhi  North West Delhi  Other  Rohini  South Delhi  \\\n",
       "0           1            0                 0      0       0            0   \n",
       "1           1            0                 0      0       0            0   \n",
       "2           1            0                 0      0       0            0   \n",
       "3           1            0                 0      0       0            0   \n",
       "5           1            0                 0      0       0            0   \n",
       "\n",
       "   South West Delhi  \n",
       "0                 0  \n",
       "1                 0  \n",
       "2                 0  \n",
       "3                 0  \n",
       "5                 0  "
      ]
     },
     "execution_count": 161,
     "metadata": {},
     "output_type": "execute_result"
    }
   ],
   "source": [
    "house_df4.head()"
   ]
  },
  {
   "cell_type": "code",
   "execution_count": 163,
   "id": "50e02f0d",
   "metadata": {},
   "outputs": [],
   "source": [
    "house_df5 = house_df4.drop(['District','localityName'],axis='columns')"
   ]
  },
  {
   "cell_type": "code",
   "execution_count": 164,
   "id": "bd9615df",
   "metadata": {},
   "outputs": [
    {
     "data": {
      "text/html": [
       "<div>\n",
       "<style scoped>\n",
       "    .dataframe tbody tr th:only-of-type {\n",
       "        vertical-align: middle;\n",
       "    }\n",
       "\n",
       "    .dataframe tbody tr th {\n",
       "        vertical-align: top;\n",
       "    }\n",
       "\n",
       "    .dataframe thead th {\n",
       "        text-align: right;\n",
       "    }\n",
       "</style>\n",
       "<table border=\"1\" class=\"dataframe\">\n",
       "  <thead>\n",
       "    <tr style=\"text-align: right;\">\n",
       "      <th></th>\n",
       "      <th>size_sq_ft</th>\n",
       "      <th>size_BHK</th>\n",
       "      <th>price</th>\n",
       "      <th>price_per_sqft</th>\n",
       "      <th>closest_mtero_station_metres</th>\n",
       "      <th>Central Delhi</th>\n",
       "      <th>Dwarka</th>\n",
       "      <th>East Delhi</th>\n",
       "      <th>North Delhi</th>\n",
       "      <th>North West Delhi</th>\n",
       "      <th>Other</th>\n",
       "      <th>Rohini</th>\n",
       "      <th>South Delhi</th>\n",
       "      <th>South West Delhi</th>\n",
       "    </tr>\n",
       "  </thead>\n",
       "  <tbody>\n",
       "    <tr>\n",
       "      <th>0</th>\n",
       "      <td>400</td>\n",
       "      <td>1</td>\n",
       "      <td>9000</td>\n",
       "      <td>22.500000</td>\n",
       "      <td>577.495488</td>\n",
       "      <td>0</td>\n",
       "      <td>0</td>\n",
       "      <td>1</td>\n",
       "      <td>0</td>\n",
       "      <td>0</td>\n",
       "      <td>0</td>\n",
       "      <td>0</td>\n",
       "      <td>0</td>\n",
       "      <td>0</td>\n",
       "    </tr>\n",
       "    <tr>\n",
       "      <th>1</th>\n",
       "      <td>1050</td>\n",
       "      <td>2</td>\n",
       "      <td>20000</td>\n",
       "      <td>19.047619</td>\n",
       "      <td>417.142283</td>\n",
       "      <td>0</td>\n",
       "      <td>0</td>\n",
       "      <td>1</td>\n",
       "      <td>0</td>\n",
       "      <td>0</td>\n",
       "      <td>0</td>\n",
       "      <td>0</td>\n",
       "      <td>0</td>\n",
       "      <td>0</td>\n",
       "    </tr>\n",
       "    <tr>\n",
       "      <th>2</th>\n",
       "      <td>2250</td>\n",
       "      <td>2</td>\n",
       "      <td>28000</td>\n",
       "      <td>12.444444</td>\n",
       "      <td>125.136043</td>\n",
       "      <td>0</td>\n",
       "      <td>0</td>\n",
       "      <td>1</td>\n",
       "      <td>0</td>\n",
       "      <td>0</td>\n",
       "      <td>0</td>\n",
       "      <td>0</td>\n",
       "      <td>0</td>\n",
       "      <td>0</td>\n",
       "    </tr>\n",
       "    <tr>\n",
       "      <th>3</th>\n",
       "      <td>1350</td>\n",
       "      <td>2</td>\n",
       "      <td>28000</td>\n",
       "      <td>20.740741</td>\n",
       "      <td>371.709423</td>\n",
       "      <td>0</td>\n",
       "      <td>0</td>\n",
       "      <td>1</td>\n",
       "      <td>0</td>\n",
       "      <td>0</td>\n",
       "      <td>0</td>\n",
       "      <td>0</td>\n",
       "      <td>0</td>\n",
       "      <td>0</td>\n",
       "    </tr>\n",
       "    <tr>\n",
       "      <th>5</th>\n",
       "      <td>600</td>\n",
       "      <td>2</td>\n",
       "      <td>10000</td>\n",
       "      <td>16.666667</td>\n",
       "      <td>523.298135</td>\n",
       "      <td>0</td>\n",
       "      <td>0</td>\n",
       "      <td>1</td>\n",
       "      <td>0</td>\n",
       "      <td>0</td>\n",
       "      <td>0</td>\n",
       "      <td>0</td>\n",
       "      <td>0</td>\n",
       "      <td>0</td>\n",
       "    </tr>\n",
       "  </tbody>\n",
       "</table>\n",
       "</div>"
      ],
      "text/plain": [
       "   size_sq_ft  size_BHK  price  price_per_sqft  closest_mtero_station_metres  \\\n",
       "0         400         1   9000       22.500000                    577.495488   \n",
       "1        1050         2  20000       19.047619                    417.142283   \n",
       "2        2250         2  28000       12.444444                    125.136043   \n",
       "3        1350         2  28000       20.740741                    371.709423   \n",
       "5         600         2  10000       16.666667                    523.298135   \n",
       "\n",
       "   Central Delhi  Dwarka  East Delhi  North Delhi  North West Delhi  Other  \\\n",
       "0              0       0           1            0                 0      0   \n",
       "1              0       0           1            0                 0      0   \n",
       "2              0       0           1            0                 0      0   \n",
       "3              0       0           1            0                 0      0   \n",
       "5              0       0           1            0                 0      0   \n",
       "\n",
       "   Rohini  South Delhi  South West Delhi  \n",
       "0       0            0                 0  \n",
       "1       0            0                 0  \n",
       "2       0            0                 0  \n",
       "3       0            0                 0  \n",
       "5       0            0                 0  "
      ]
     },
     "execution_count": 164,
     "metadata": {},
     "output_type": "execute_result"
    }
   ],
   "source": [
    "house_df5.head()"
   ]
  },
  {
   "cell_type": "code",
   "execution_count": 165,
   "id": "db43f619",
   "metadata": {},
   "outputs": [
    {
     "data": {
      "text/html": [
       "<div>\n",
       "<style scoped>\n",
       "    .dataframe tbody tr th:only-of-type {\n",
       "        vertical-align: middle;\n",
       "    }\n",
       "\n",
       "    .dataframe tbody tr th {\n",
       "        vertical-align: top;\n",
       "    }\n",
       "\n",
       "    .dataframe thead th {\n",
       "        text-align: right;\n",
       "    }\n",
       "</style>\n",
       "<table border=\"1\" class=\"dataframe\">\n",
       "  <thead>\n",
       "    <tr style=\"text-align: right;\">\n",
       "      <th></th>\n",
       "      <th>size_sq_ft</th>\n",
       "      <th>size_BHK</th>\n",
       "      <th>price_per_sqft</th>\n",
       "      <th>closest_mtero_station_metres</th>\n",
       "      <th>Central Delhi</th>\n",
       "      <th>Dwarka</th>\n",
       "      <th>East Delhi</th>\n",
       "      <th>North Delhi</th>\n",
       "      <th>North West Delhi</th>\n",
       "      <th>Other</th>\n",
       "      <th>Rohini</th>\n",
       "      <th>South Delhi</th>\n",
       "      <th>South West Delhi</th>\n",
       "    </tr>\n",
       "  </thead>\n",
       "  <tbody>\n",
       "    <tr>\n",
       "      <th>0</th>\n",
       "      <td>400</td>\n",
       "      <td>1</td>\n",
       "      <td>22.500000</td>\n",
       "      <td>577.495488</td>\n",
       "      <td>0</td>\n",
       "      <td>0</td>\n",
       "      <td>1</td>\n",
       "      <td>0</td>\n",
       "      <td>0</td>\n",
       "      <td>0</td>\n",
       "      <td>0</td>\n",
       "      <td>0</td>\n",
       "      <td>0</td>\n",
       "    </tr>\n",
       "    <tr>\n",
       "      <th>1</th>\n",
       "      <td>1050</td>\n",
       "      <td>2</td>\n",
       "      <td>19.047619</td>\n",
       "      <td>417.142283</td>\n",
       "      <td>0</td>\n",
       "      <td>0</td>\n",
       "      <td>1</td>\n",
       "      <td>0</td>\n",
       "      <td>0</td>\n",
       "      <td>0</td>\n",
       "      <td>0</td>\n",
       "      <td>0</td>\n",
       "      <td>0</td>\n",
       "    </tr>\n",
       "    <tr>\n",
       "      <th>2</th>\n",
       "      <td>2250</td>\n",
       "      <td>2</td>\n",
       "      <td>12.444444</td>\n",
       "      <td>125.136043</td>\n",
       "      <td>0</td>\n",
       "      <td>0</td>\n",
       "      <td>1</td>\n",
       "      <td>0</td>\n",
       "      <td>0</td>\n",
       "      <td>0</td>\n",
       "      <td>0</td>\n",
       "      <td>0</td>\n",
       "      <td>0</td>\n",
       "    </tr>\n",
       "    <tr>\n",
       "      <th>3</th>\n",
       "      <td>1350</td>\n",
       "      <td>2</td>\n",
       "      <td>20.740741</td>\n",
       "      <td>371.709423</td>\n",
       "      <td>0</td>\n",
       "      <td>0</td>\n",
       "      <td>1</td>\n",
       "      <td>0</td>\n",
       "      <td>0</td>\n",
       "      <td>0</td>\n",
       "      <td>0</td>\n",
       "      <td>0</td>\n",
       "      <td>0</td>\n",
       "    </tr>\n",
       "    <tr>\n",
       "      <th>5</th>\n",
       "      <td>600</td>\n",
       "      <td>2</td>\n",
       "      <td>16.666667</td>\n",
       "      <td>523.298135</td>\n",
       "      <td>0</td>\n",
       "      <td>0</td>\n",
       "      <td>1</td>\n",
       "      <td>0</td>\n",
       "      <td>0</td>\n",
       "      <td>0</td>\n",
       "      <td>0</td>\n",
       "      <td>0</td>\n",
       "      <td>0</td>\n",
       "    </tr>\n",
       "  </tbody>\n",
       "</table>\n",
       "</div>"
      ],
      "text/plain": [
       "   size_sq_ft  size_BHK  price_per_sqft  closest_mtero_station_metres  \\\n",
       "0         400         1       22.500000                    577.495488   \n",
       "1        1050         2       19.047619                    417.142283   \n",
       "2        2250         2       12.444444                    125.136043   \n",
       "3        1350         2       20.740741                    371.709423   \n",
       "5         600         2       16.666667                    523.298135   \n",
       "\n",
       "   Central Delhi  Dwarka  East Delhi  North Delhi  North West Delhi  Other  \\\n",
       "0              0       0           1            0                 0      0   \n",
       "1              0       0           1            0                 0      0   \n",
       "2              0       0           1            0                 0      0   \n",
       "3              0       0           1            0                 0      0   \n",
       "5              0       0           1            0                 0      0   \n",
       "\n",
       "   Rohini  South Delhi  South West Delhi  \n",
       "0       0            0                 0  \n",
       "1       0            0                 0  \n",
       "2       0            0                 0  \n",
       "3       0            0                 0  \n",
       "5       0            0                 0  "
      ]
     },
     "execution_count": 165,
     "metadata": {},
     "output_type": "execute_result"
    }
   ],
   "source": [
    "# Segregating the data into dependent and independent variables.\n",
    "# Independent Variables are clubbed as x and Dependent variable is y wich is our price.\n",
    "X = house_df5.drop('price', axis='columns')\n",
    "X.head()"
   ]
  },
  {
   "cell_type": "code",
   "execution_count": 166,
   "id": "7aeebef6",
   "metadata": {},
   "outputs": [
    {
     "data": {
      "text/plain": [
       "0     9000\n",
       "1    20000\n",
       "2    28000\n",
       "3    28000\n",
       "5    10000\n",
       "Name: price, dtype: int64"
      ]
     },
     "execution_count": 166,
     "metadata": {},
     "output_type": "execute_result"
    }
   ],
   "source": [
    "Y = house_df5.price\n",
    "Y.head()"
   ]
  },
  {
   "cell_type": "code",
   "execution_count": 167,
   "id": "5fc685ba",
   "metadata": {},
   "outputs": [],
   "source": [
    "x_train, x_test, y_train, y_test = train_test_split(X, Y, test_size=0.20, random_state=10)"
   ]
  },
  {
   "cell_type": "code",
   "execution_count": 168,
   "id": "148cbf87",
   "metadata": {},
   "outputs": [
    {
     "data": {
      "text/plain": [
       "0.7060106439016076"
      ]
     },
     "execution_count": 168,
     "metadata": {},
     "output_type": "execute_result"
    }
   ],
   "source": [
    "from sklearn.linear_model import LinearRegression\n",
    "house_lr_model = LinearRegression()\n",
    "house_lr_model.fit(x_train, y_train)\n",
    "house_lr_model.score(x_test, y_test)"
   ]
  },
  {
   "cell_type": "code",
   "execution_count": 171,
   "id": "3ba14534",
   "metadata": {},
   "outputs": [
    {
     "data": {
      "text/plain": [
       "SVR()"
      ]
     },
     "execution_count": 171,
     "metadata": {},
     "output_type": "execute_result"
    }
   ],
   "source": [
    "from sklearn.svm import SVR\n",
    "house_svr_model = SVR(kernel=\"rbf\")\n",
    "house_svr_model.fit(X,Y)"
   ]
  },
  {
   "cell_type": "code",
   "execution_count": 173,
   "id": "5d2832a4",
   "metadata": {},
   "outputs": [
    {
     "data": {
      "text/plain": [
       "-0.015316155485643579"
      ]
     },
     "execution_count": 173,
     "metadata": {},
     "output_type": "execute_result"
    }
   ],
   "source": [
    "house_svr_model.score(X,Y)"
   ]
  },
  {
   "cell_type": "code",
   "execution_count": 174,
   "id": "b1d4a7dd",
   "metadata": {},
   "outputs": [
    {
     "data": {
      "text/plain": [
       "0.8898134535065458"
      ]
     },
     "execution_count": 174,
     "metadata": {},
     "output_type": "execute_result"
    }
   ],
   "source": [
    "from sklearn.ensemble import RandomForestRegressor\n",
    "house_rf_model = RandomForestRegressor(n_estimators=100)\n",
    "house_rf_model.fit(x_train,y_train)\n",
    "house_rf_model.score(x_test, y_test)"
   ]
  },
  {
   "cell_type": "markdown",
   "id": "edc0ed8d",
   "metadata": {},
   "source": [
    "Hence,from the above trials we conclude that the best algorithm for our dataset is Random Forest Classifier giving a score of 0.889 !"
   ]
  },
  {
   "cell_type": "code",
   "execution_count": 176,
   "id": "3326eea6",
   "metadata": {},
   "outputs": [
    {
     "data": {
      "text/plain": [
       "list"
      ]
     },
     "execution_count": 176,
     "metadata": {},
     "output_type": "execute_result"
    }
   ],
   "source": [
    "y_pred= house_rf_model.predict(x_test)\n",
    "y_pred\n",
    "y_test= list(y_test)\n",
    "type(y_test)"
   ]
  },
  {
   "cell_type": "code",
   "execution_count": 179,
   "id": "3aa7a2f2",
   "metadata": {},
   "outputs": [
    {
     "data": {
      "image/png": "[encoded data removed]",
      "text/plain": [
       "<Figure size 1440x720 with 1 Axes>"
      ]
     },
     "metadata": {
      "needs_background": "light"
     },
     "output_type": "display_data"
    }
   ],
   "source": [
    "#Plotting the actual values of the rental prices across Delhi.\n",
    "\n",
    "plt.plot(y_test,color='c',label=' Actual values')\n",
    "plt.title(\"Actual price \")\n",
    "plt.xlabel(\"Number of values\")\n",
    "plt.ylabel(\" Rental Price\")\n",
    "plt.legend()\n",
    "plt.show()"
   ]
  },
  {
   "cell_type": "code",
   "execution_count": 180,
   "id": "387b5052",
   "metadata": {},
   "outputs": [
    {
     "data": {
      "image/png": "[encoded data removed]",
      "text/plain": [
       "<Figure size 1440x720 with 1 Axes>"
      ]
     },
     "metadata": {
      "needs_background": "light"
     },
     "output_type": "display_data"
    }
   ],
   "source": [
    "#Plotting the predicted values (generated by our model) of the rental prices across Delhi.\n",
    "\n",
    "plt.plot(y_pred, color='r',label=' predicted values')\n",
    "plt.title(\"Predicted price\")\n",
    "plt.xlabel(\"Number of values\")\n",
    "plt.ylabel(\" Rental Price\")\n",
    "plt.legend()\n",
    "plt.show()"
   ]
  },
  {
   "cell_type": "code",
   "execution_count": 181,
   "id": "214dcdd7",
   "metadata": {},
   "outputs": [
    {
     "data": {
      "image/png": "[encoded data removed]",
      "text/plain": [
       "<Figure size 1440x720 with 1 Axes>"
      ]
     },
     "metadata": {
      "needs_background": "light"
     },
     "output_type": "display_data"
    }
   ],
   "source": [
    "#Comparing the actual and predicted values of the rental prices across Delhi.\n",
    "\n",
    "plt.plot(y_test,color='c',label=' Actual values')\n",
    "plt.plot(y_pred, color='r',label=' predicted values')\n",
    "plt.title(\"Actual price vs Predicted price\")\n",
    "plt.xlabel(\"Number of values \")\n",
    "plt.ylabel(\" Rental Price\")\n",
    "plt.legend()\n",
    "plt.show()"
   ]
  },
  {
   "cell_type": "markdown",
   "id": "49e9edbb",
   "metadata": {},
   "source": [
    "From the above plot, it is clearly visible that the actual and predicted Rental Prices for houses in Delhi are really close to each other.\n",
    "Hence, our model is successfully predicting the Rental prices !!"
   ]
  },
  {
   "cell_type": "markdown",
   "id": "a0578f1e",
   "metadata": {},
   "source": [
    "### Saving and testing our model."
   ]
  },
  {
   "cell_type": "code",
   "execution_count": 184,
   "id": "5121246e",
   "metadata": {},
   "outputs": [
    {
     "name": "stdout",
     "output_type": "stream",
     "text": [
      "Model saved successfully\n"
     ]
    }
   ],
   "source": [
    "import pickle\n",
    "\n",
    "# Saving the model\n",
    "\n",
    "filename=\"Iris_Model_Saved.sav\"\n",
    "try:\n",
    "    with open (filename, \"wb\") as file:\n",
    "        pickle.dump(house_rf_model, file)\n",
    "    print(\"Model saved successfully\")\n",
    "except Exception as e:\n",
    "    print(f\"Error saving the model:{e}\")\n",
    "        "
   ]
  },
  {
   "cell_type": "code",
   "execution_count": 185,
   "id": "c970b53e",
   "metadata": {},
   "outputs": [],
   "source": [
    "load_model=pickle.load(open(filename,'rb'))"
   ]
  },
  {
   "cell_type": "code",
   "execution_count": 186,
   "id": "e3e1983c",
   "metadata": {},
   "outputs": [
    {
     "name": "stderr",
     "output_type": "stream",
     "text": [
      "C:\\Users\\hp\\anaconda3\\lib\\site-packages\\sklearn\\base.py:450: UserWarning: X does not have valid feature names, but RandomForestRegressor was fitted with feature names\n",
      "  warnings.warn(\n"
     ]
    },
    {
     "data": {
      "text/plain": [
       "array([10000.])"
      ]
     },
     "execution_count": 186,
     "metadata": {},
     "output_type": "execute_result"
    }
   ],
   "source": [
    "load_model.predict([[600,2,16.666667,523.298135,0,0,1,0,0,0,0,0,0]])"
   ]
  },
  {
   "cell_type": "markdown",
   "id": "a9db7423",
   "metadata": {},
   "source": [
    "#### Wohoooooo !!! Our model is predicting the rental prices accurately."
   ]
  },
  {
   "cell_type": "markdown",
   "id": "9505b48a",
   "metadata": {},
   "source": [
    "### Hence, our model is successfully generating the required results upon recieving the input from the user."
   ]
  },
  {
   "cell_type": "code",
   "execution_count": null,
   "id": "3cc0e4d6",
   "metadata": {},
   "outputs": [],
   "source": []
  }
 ],
 "metadata": {
  "kernelspec": {
   "display_name": "Python 3 (ipykernel)",
   "language": "python",
   "name": "python3"
  },
  "language_info": {
   "codemirror_mode": {
    "name": "ipython",
    "version": 3
   },
   "file_extension": ".py",
   "mimetype": "text/x-python",
   "name": "python",
   "nbconvert_exporter": "python",
   "pygments_lexer": "ipython3",
   "version": "3.9.12"
  }
 },
 "nbformat": 4,
 "nbformat_minor": 5
}
